{
 "cells": [
  {
   "cell_type": "markdown",
   "metadata": {
    "slideshow": {
     "slide_type": "slide"
    }
   },
   "source": [
    "# Bayesian Hierarchical Regression"
   ]
  },
  {
   "cell_type": "code",
   "execution_count": 1,
   "metadata": {
    "slideshow": {
     "slide_type": "-"
    }
   },
   "outputs": [],
   "source": [
    "import arviz as az\n",
    "import matplotlib.pyplot as plt\n",
    "import numpy as np\n",
    "import pandas as pd\n",
    "import pymc3 as pm\n",
    "\n",
    "from pandas_datareader import DataReader\n",
    "\n",
    "%matplotlib inline"
   ]
  },
  {
   "cell_type": "markdown",
   "metadata": {
    "slideshow": {
     "slide_type": "slide"
    }
   },
   "source": [
    "## Hierarchical Models: Cafes\n",
    "\n",
    "The following example is based on material from Richard McElreath and the \"Statistical Rethinking\" book.\n",
    "\n",
    "Suppose you were tasked with providing the mean and standard deviation for the waiting time to get a cup of coffee for every cafe in the world.\n",
    "\n",
    "How would one go about doing this?"
   ]
  },
  {
   "cell_type": "markdown",
   "metadata": {
    "slideshow": {
     "slide_type": "subslide"
    }
   },
   "source": [
    "#### Method 1: Pooled\n",
    "\n",
    "One could treat each cafe the same and use visits to many different cafes to estimate a world-wide mean and standard deviation of waiting times for cafes.\n",
    "\n",
    "This method disregards the fact that cafes have any differences -- Even if all cafes in the world were run by Starbucks, there would be differences in waiting times due to factors like foot traffic and staff."
   ]
  },
  {
   "cell_type": "markdown",
   "metadata": {
    "slideshow": {
     "slide_type": "subslide"
    }
   },
   "source": [
    "#### Method 2: Amnesia\n",
    "\n",
    "If one was able to visit every cafe in the world repeatedly, one could estimate a cafe-specific mean and standard deviation.\n",
    "\n",
    "We call this method the \"amnesia method\" because it is like you are forgetting that you've ever visited any other cafe in the world... This seems suboptimal because repeated visits to every cafe in the world would become infeasible and, although cafes differ, they also have similarities (which this method ignores)."
   ]
  },
  {
   "cell_type": "markdown",
   "metadata": {
    "slideshow": {
     "slide_type": "subslide"
    }
   },
   "source": [
    "#### Method 3: Multilevel (Hierarchical)\n",
    "\n",
    "Rather than treat cafes as completely the same (pooled) or completely separate (amnesia), multilevel models recognize that there are similarities and differences and these models attempt to separate these similarities and differences."
   ]
  },
  {
   "cell_type": "markdown",
   "metadata": {
    "slideshow": {
     "slide_type": "slide"
    }
   },
   "source": [
    "## CAPM\n",
    "\n",
    "We aren't going to discuss in detail about the interpretation (or motivation) of the CAPM model today (stay tuned for more on this...), but we think it is a compelling example for hierarchical models.\n",
    "\n",
    "The CAPM is described by the following equation:\n",
    "\n",
    "$$r_{i, t} = r_{f, t} + \\beta_i (r_{m, t} - r_{f, t})$$"
   ]
  },
  {
   "cell_type": "markdown",
   "metadata": {
    "slideshow": {
     "slide_type": "fragment"
    }
   },
   "source": [
    "There are a few components to this equation:\n",
    "\n",
    "* $r_{f, t}$: The risk-free return <-- We will use the 3 month treasury bills to approximate this\n",
    "* $r_{m, t}$: The market return <-- We will use the S&P 500 to approximate the market return\n",
    "* $r_{i, t}$: The return of a particular asset\n",
    "* $\\beta_i$: The beta of the asset <-- This is a measure of relative co-movement with the market returns"
   ]
  },
  {
   "cell_type": "markdown",
   "metadata": {
    "slideshow": {
     "slide_type": "slide"
    }
   },
   "source": [
    "## Data Ingestion\n",
    "\n",
    "We will download data from three sources:\n",
    "\n",
    "1. [Wikipedia's list of S&P 500 companies](https://en.wikipedia.org/wiki/List_of_S%26P_500_companies)\n",
    "2. [Yahoo Finance](https://finance.yahoo.com/)\n",
    "3. [Federal Reserve Bank of St Louis](https://fred.stlouisfed.org/)"
   ]
  },
  {
   "cell_type": "markdown",
   "metadata": {
    "slideshow": {
     "slide_type": "-"
    }
   },
   "source": [
    "Yahoo Finance previously had an API that one could use to download data, but they deprecated this API in 2017...\n",
    "\n",
    "In response to this, open source contributors have created a new Python package called `yfinance` which you can read about [here](https://github.com/ranaroussi/yfinance). We will use this package to download daily stock prices -- If you'd like to replicate this data gathering, you'll need to run `pip install yfinance` to install the `yfinance` package."
   ]
  },
  {
   "cell_type": "markdown",
   "metadata": {
    "slideshow": {
     "slide_type": "subslide"
    }
   },
   "source": [
    "### S&P 500 Metadata\n",
    "\n",
    "There are several pieces of metadata that we are particularly interested in here:\n",
    "\n",
    "* `ticker`: This will tell us the ticker that we can use to download the data\n",
    "* `gics`: The [GICS sector](https://en.wikipedia.org/wiki/Global_Industry_Classification_Standard) tells us broad information about the industry that a company works in. An example of a few of these industries would be: _energy_, _materials_, _consumer discretionary_, _financials_, etc...\n",
    "* `gics_subindustry`: The GICS subcategory tells us more specific information about the industry that a company works in. For example, _asset management and custody_, _oil and gas drilling_, _textiles_, _automobile manufacturers_, etc...\n",
    "* `hq_location`: The location of the company headquarters\n",
    "* `start_date`: When the company entered the S&P 500\n",
    "* `founded`: The year the company was founded"
   ]
  },
  {
   "cell_type": "code",
   "execution_count": 17,
   "metadata": {
    "slideshow": {
     "slide_type": "fragment"
    }
   },
   "outputs": [],
   "source": [
    "# # Read in tables from wikipedia page\n",
    "# sp500_tables = pd.read_html(\n",
    "#     \"https://en.wikipedia.org/wiki/List_of_S%26P_500_companies\"\n",
    "# )\n",
    "\n",
    "# # Get table of companies and rename\n",
    "# sp500 = sp500_tables[0].rename(columns={\n",
    "#     \"Symbol\": \"ticker\",\n",
    "#     \"GICS Sector\": \"gics\",\n",
    "#     \"GICS Sub-Industry\": \"gics_subindustry\",\n",
    "#     \"Headquarters Location\": \"hq_location\",\n",
    "#     \"Date first added\": \"start_date\",\n",
    "# })\n",
    "# sp500.columns = [c.lower() for c in sp500.columns]\n",
    "\n",
    "# # Yahoo uses - rather than .\n",
    "# sp500[\"ticker\"] = sp500[\"ticker\"].str.replace(\".\", \"-\")\n",
    "\n",
    "# # Add Zoom for fun\n",
    "# sp500 = sp500.append(\n",
    "#     {\n",
    "#         \"ticker\": \"ZM\",\n",
    "#         \"security\": \"Zoom\",\n",
    "#         \"sec filings\": \"reports\",\n",
    "#         \"gics\": \"Communication Services\",\n",
    "#         \"gics_subindustry\": \"Telecom Services\",\n",
    "#         \"hq_location\": \"San Jose, CA\",\n",
    "#         \"start_date\": \"2019-03-22\",\n",
    "#         \"cik\": 1585521,\n",
    "#         \"founded\": \"2011\",\n",
    "#     }, ignore_index=True\n",
    "# )\n",
    "\n",
    "# # Extract tickers\n",
    "# sp500_tickers = sp500[\"ticker\"].to_list()\n",
    "\n",
    "# sp500.to_parquet(\"./sp500_companies.parquet\")\n",
    "\n",
    "sp500 = pd.read_parquet(\"./sp500_companies.parquet\")"
   ]
  },
  {
   "cell_type": "code",
   "execution_count": 18,
   "metadata": {
    "slideshow": {
     "slide_type": "-"
    }
   },
   "outputs": [
    {
     "data": {
      "text/html": [
       "<div>\n",
       "<style scoped>\n",
       "    .dataframe tbody tr th:only-of-type {\n",
       "        vertical-align: middle;\n",
       "    }\n",
       "\n",
       "    .dataframe tbody tr th {\n",
       "        vertical-align: top;\n",
       "    }\n",
       "\n",
       "    .dataframe thead th {\n",
       "        text-align: right;\n",
       "    }\n",
       "</style>\n",
       "<table border=\"1\" class=\"dataframe\">\n",
       "  <thead>\n",
       "    <tr style=\"text-align: right;\">\n",
       "      <th></th>\n",
       "      <th>ticker</th>\n",
       "      <th>security</th>\n",
       "      <th>sec filings</th>\n",
       "      <th>gics</th>\n",
       "      <th>gics_subindustry</th>\n",
       "      <th>hq_location</th>\n",
       "      <th>start_date</th>\n",
       "      <th>cik</th>\n",
       "      <th>founded</th>\n",
       "    </tr>\n",
       "  </thead>\n",
       "  <tbody>\n",
       "    <tr>\n",
       "      <th>0</th>\n",
       "      <td>MMM</td>\n",
       "      <td>3M</td>\n",
       "      <td>reports</td>\n",
       "      <td>Industrials</td>\n",
       "      <td>Industrial Conglomerates</td>\n",
       "      <td>Saint Paul, Minnesota</td>\n",
       "      <td>1976-08-09</td>\n",
       "      <td>66740</td>\n",
       "      <td>1902</td>\n",
       "    </tr>\n",
       "    <tr>\n",
       "      <th>1</th>\n",
       "      <td>ABT</td>\n",
       "      <td>Abbott Laboratories</td>\n",
       "      <td>reports</td>\n",
       "      <td>Health Care</td>\n",
       "      <td>Health Care Equipment</td>\n",
       "      <td>North Chicago, Illinois</td>\n",
       "      <td>1964-03-31</td>\n",
       "      <td>1800</td>\n",
       "      <td>1888</td>\n",
       "    </tr>\n",
       "    <tr>\n",
       "      <th>2</th>\n",
       "      <td>ABBV</td>\n",
       "      <td>AbbVie</td>\n",
       "      <td>reports</td>\n",
       "      <td>Health Care</td>\n",
       "      <td>Pharmaceuticals</td>\n",
       "      <td>North Chicago, Illinois</td>\n",
       "      <td>2012-12-31</td>\n",
       "      <td>1551152</td>\n",
       "      <td>2013 (1888)</td>\n",
       "    </tr>\n",
       "    <tr>\n",
       "      <th>3</th>\n",
       "      <td>ABMD</td>\n",
       "      <td>Abiomed</td>\n",
       "      <td>reports</td>\n",
       "      <td>Health Care</td>\n",
       "      <td>Health Care Equipment</td>\n",
       "      <td>Danvers, Massachusetts</td>\n",
       "      <td>2018-05-31</td>\n",
       "      <td>815094</td>\n",
       "      <td>1981</td>\n",
       "    </tr>\n",
       "    <tr>\n",
       "      <th>4</th>\n",
       "      <td>ACN</td>\n",
       "      <td>Accenture</td>\n",
       "      <td>reports</td>\n",
       "      <td>Information Technology</td>\n",
       "      <td>IT Consulting &amp; Other Services</td>\n",
       "      <td>Dublin, Ireland</td>\n",
       "      <td>2011-07-06</td>\n",
       "      <td>1467373</td>\n",
       "      <td>1989</td>\n",
       "    </tr>\n",
       "    <tr>\n",
       "      <th>5</th>\n",
       "      <td>ATVI</td>\n",
       "      <td>Activision Blizzard</td>\n",
       "      <td>reports</td>\n",
       "      <td>Communication Services</td>\n",
       "      <td>Interactive Home Entertainment</td>\n",
       "      <td>Santa Monica, California</td>\n",
       "      <td>2015-08-31</td>\n",
       "      <td>718877</td>\n",
       "      <td>2008</td>\n",
       "    </tr>\n",
       "    <tr>\n",
       "      <th>6</th>\n",
       "      <td>ADBE</td>\n",
       "      <td>Adobe</td>\n",
       "      <td>reports</td>\n",
       "      <td>Information Technology</td>\n",
       "      <td>Application Software</td>\n",
       "      <td>San Jose, California</td>\n",
       "      <td>1997-05-05</td>\n",
       "      <td>796343</td>\n",
       "      <td>1982</td>\n",
       "    </tr>\n",
       "    <tr>\n",
       "      <th>7</th>\n",
       "      <td>AMD</td>\n",
       "      <td>Advanced Micro Devices</td>\n",
       "      <td>reports</td>\n",
       "      <td>Information Technology</td>\n",
       "      <td>Semiconductors</td>\n",
       "      <td>Santa Clara, California</td>\n",
       "      <td>None</td>\n",
       "      <td>2488</td>\n",
       "      <td>1969</td>\n",
       "    </tr>\n",
       "    <tr>\n",
       "      <th>8</th>\n",
       "      <td>AAP</td>\n",
       "      <td>Advance Auto Parts</td>\n",
       "      <td>reports</td>\n",
       "      <td>Consumer Discretionary</td>\n",
       "      <td>Automotive Retail</td>\n",
       "      <td>Raleigh, North Carolina</td>\n",
       "      <td>2015-07-09</td>\n",
       "      <td>1158449</td>\n",
       "      <td>1932</td>\n",
       "    </tr>\n",
       "    <tr>\n",
       "      <th>9</th>\n",
       "      <td>AES</td>\n",
       "      <td>AES Corp</td>\n",
       "      <td>reports</td>\n",
       "      <td>Utilities</td>\n",
       "      <td>Independent Power Producers &amp; Energy Traders</td>\n",
       "      <td>Arlington, Virginia</td>\n",
       "      <td>1998-10-02</td>\n",
       "      <td>874761</td>\n",
       "      <td>1981</td>\n",
       "    </tr>\n",
       "  </tbody>\n",
       "</table>\n",
       "</div>"
      ],
      "text/plain": [
       "  ticker                security sec filings                    gics  \\\n",
       "0    MMM                      3M     reports             Industrials   \n",
       "1    ABT     Abbott Laboratories     reports             Health Care   \n",
       "2   ABBV                  AbbVie     reports             Health Care   \n",
       "3   ABMD                 Abiomed     reports             Health Care   \n",
       "4    ACN               Accenture     reports  Information Technology   \n",
       "5   ATVI     Activision Blizzard     reports  Communication Services   \n",
       "6   ADBE                   Adobe     reports  Information Technology   \n",
       "7    AMD  Advanced Micro Devices     reports  Information Technology   \n",
       "8    AAP      Advance Auto Parts     reports  Consumer Discretionary   \n",
       "9    AES                AES Corp     reports               Utilities   \n",
       "\n",
       "                               gics_subindustry               hq_location  \\\n",
       "0                      Industrial Conglomerates     Saint Paul, Minnesota   \n",
       "1                         Health Care Equipment   North Chicago, Illinois   \n",
       "2                               Pharmaceuticals   North Chicago, Illinois   \n",
       "3                         Health Care Equipment    Danvers, Massachusetts   \n",
       "4                IT Consulting & Other Services           Dublin, Ireland   \n",
       "5                Interactive Home Entertainment  Santa Monica, California   \n",
       "6                          Application Software      San Jose, California   \n",
       "7                                Semiconductors   Santa Clara, California   \n",
       "8                             Automotive Retail   Raleigh, North Carolina   \n",
       "9  Independent Power Producers & Energy Traders       Arlington, Virginia   \n",
       "\n",
       "   start_date      cik      founded  \n",
       "0  1976-08-09    66740         1902  \n",
       "1  1964-03-31     1800         1888  \n",
       "2  2012-12-31  1551152  2013 (1888)  \n",
       "3  2018-05-31   815094         1981  \n",
       "4  2011-07-06  1467373         1989  \n",
       "5  2015-08-31   718877         2008  \n",
       "6  1997-05-05   796343         1982  \n",
       "7        None     2488         1969  \n",
       "8  2015-07-09  1158449         1932  \n",
       "9  1998-10-02   874761         1981  "
      ]
     },
     "execution_count": 18,
     "metadata": {},
     "output_type": "execute_result"
    }
   ],
   "source": [
    "sp500.head(10)"
   ]
  },
  {
   "cell_type": "markdown",
   "metadata": {
    "slideshow": {
     "slide_type": "subslide"
    }
   },
   "source": [
    "### S&P Prices\n",
    "\n",
    "The other piece of data is the actual stock prices. We are given a few options for which type of price data to report:\n",
    "\n",
    "* `Close`: The last price that the stock traded at on a particular day\n",
    "* `Open`: The first price that the stock traded at on a particular day\n",
    "* `High`: The highest price that a stock traded at on a particular day\n",
    "* `Low`: The lowest price that a stock traded at on a particular day\n",
    "* `Adj Close`: The close price adjusted for dividends, splits, and other corporate actions <-- We will be using adjusted close prices"
   ]
  },
  {
   "cell_type": "code",
   "execution_count": 19,
   "metadata": {
    "slideshow": {
     "slide_type": "fragment"
    }
   },
   "outputs": [
    {
     "name": "stdout",
     "output_type": "stream",
     "text": [
      "[*                      2%                       ]  10 of 507 completed"
     ]
    },
    {
     "ename": "KeyboardInterrupt",
     "evalue": "",
     "output_type": "error",
     "traceback": [
      "\u001b[0;31m---------------------------------------------------------------------------\u001b[0m",
      "\u001b[0;31mKeyboardInterrupt\u001b[0m                         Traceback (most recent call last)",
      "\u001b[0;32m<ipython-input-19-45e2fd9c6e10>\u001b[0m in \u001b[0;36m<module>\u001b[0;34m\u001b[0m\n\u001b[1;32m      1\u001b[0m \u001b[0;32mimport\u001b[0m \u001b[0myfinance\u001b[0m \u001b[0;32mas\u001b[0m \u001b[0myf\u001b[0m  \u001b[0;31m# Make sure to install if not installed!\u001b[0m\u001b[0;34m\u001b[0m\u001b[0;34m\u001b[0m\u001b[0m\n\u001b[1;32m      2\u001b[0m \u001b[0;34m\u001b[0m\u001b[0m\n\u001b[0;32m----> 3\u001b[0;31m raw_prices = yf.download(\n\u001b[0m\u001b[1;32m      4\u001b[0m     \u001b[0mtickers\u001b[0m\u001b[0;34m=\u001b[0m\u001b[0msp500_tickers\u001b[0m \u001b[0;34m+\u001b[0m \u001b[0;34m[\u001b[0m\u001b[0;34m\"^GSPC\"\u001b[0m\u001b[0;34m]\u001b[0m\u001b[0;34m,\u001b[0m\u001b[0;34m\u001b[0m\u001b[0;34m\u001b[0m\u001b[0m\n\u001b[1;32m      5\u001b[0m     \u001b[0mstart\u001b[0m\u001b[0;34m=\u001b[0m\u001b[0;34m\"2015-12-31\"\u001b[0m\u001b[0;34m,\u001b[0m \u001b[0mend\u001b[0m\u001b[0;34m=\u001b[0m\u001b[0;34m\"2021-01-01\"\u001b[0m\u001b[0;34m,\u001b[0m\u001b[0;34m\u001b[0m\u001b[0;34m\u001b[0m\u001b[0m\n",
      "\u001b[0;32m~/anaconda3/envs/css/lib/python3.9/site-packages/yfinance/multi.py\u001b[0m in \u001b[0;36mdownload\u001b[0;34m(tickers, start, end, actions, threads, group_by, auto_adjust, back_adjust, progress, period, show_errors, interval, prepost, proxy, rounding, timeout, **kwargs)\u001b[0m\n\u001b[1;32m    110\u001b[0m                                    rounding=rounding, timeout=timeout)\n\u001b[1;32m    111\u001b[0m         \u001b[0;32mwhile\u001b[0m \u001b[0mlen\u001b[0m\u001b[0;34m(\u001b[0m\u001b[0mshared\u001b[0m\u001b[0;34m.\u001b[0m\u001b[0m_DFS\u001b[0m\u001b[0;34m)\u001b[0m \u001b[0;34m<\u001b[0m \u001b[0mlen\u001b[0m\u001b[0;34m(\u001b[0m\u001b[0mtickers\u001b[0m\u001b[0;34m)\u001b[0m\u001b[0;34m:\u001b[0m\u001b[0;34m\u001b[0m\u001b[0;34m\u001b[0m\u001b[0m\n\u001b[0;32m--> 112\u001b[0;31m             \u001b[0m_time\u001b[0m\u001b[0;34m.\u001b[0m\u001b[0msleep\u001b[0m\u001b[0;34m(\u001b[0m\u001b[0;36m0.01\u001b[0m\u001b[0;34m)\u001b[0m\u001b[0;34m\u001b[0m\u001b[0;34m\u001b[0m\u001b[0m\n\u001b[0m\u001b[1;32m    113\u001b[0m \u001b[0;34m\u001b[0m\u001b[0m\n\u001b[1;32m    114\u001b[0m     \u001b[0;31m# download synchronously\u001b[0m\u001b[0;34m\u001b[0m\u001b[0;34m\u001b[0m\u001b[0;34m\u001b[0m\u001b[0m\n",
      "\u001b[0;31mKeyboardInterrupt\u001b[0m: "
     ]
    },
    {
     "name": "stdout",
     "output_type": "stream",
     "text": [
      "[*                      2%                       ]  11 of 507 completed"
     ]
    }
   ],
   "source": [
    "import yfinance as yf  # Make sure to install if not installed!\n",
    "\n",
    "raw_prices = yf.download(\n",
    "    tickers=sp500_tickers + [\"^GSPC\"],\n",
    "    start=\"2015-12-31\", end=\"2021-01-01\",\n",
    ")"
   ]
  },
  {
   "cell_type": "code",
   "execution_count": null,
   "metadata": {
    "slideshow": {
     "slide_type": "-"
    }
   },
   "outputs": [
    {
     "name": "stdout",
     "output_type": "stream",
     "text": [
      "[********              17%                       ]  86 of 507 completed"
     ]
    }
   ],
   "source": [
    "# prices = raw_prices.loc[:, \"Close\"].reset_index().rename(\n",
    "#     columns={\n",
    "#         \"Date\": \"dt\"\n",
    "#     }\n",
    "# ).melt(\n",
    "#     id_vars=\"dt\",\n",
    "#     var_name=\"ticker\",\n",
    "#     value_name=\"price\"\n",
    "# ).replace(\n",
    "#     {\"ticker\": {\"^GSPC\": \"sp500\"}}\n",
    "# )\n",
    "\n",
    "# prices.to_parquet(\"./sp500_prices.parquet\")\n",
    "\n",
    "prices = pd.read_parquet(\"./sp500_prices.parquet\")"
   ]
  },
  {
   "cell_type": "code",
   "execution_count": 16,
   "metadata": {
    "slideshow": {
     "slide_type": "-"
    }
   },
   "outputs": [
    {
     "data": {
      "text/html": [
       "<div>\n",
       "<style scoped>\n",
       "    .dataframe tbody tr th:only-of-type {\n",
       "        vertical-align: middle;\n",
       "    }\n",
       "\n",
       "    .dataframe tbody tr th {\n",
       "        vertical-align: top;\n",
       "    }\n",
       "\n",
       "    .dataframe thead th {\n",
       "        text-align: right;\n",
       "    }\n",
       "</style>\n",
       "<table border=\"1\" class=\"dataframe\">\n",
       "  <thead>\n",
       "    <tr style=\"text-align: right;\">\n",
       "      <th></th>\n",
       "      <th>dt</th>\n",
       "      <th>ticker</th>\n",
       "      <th>price</th>\n",
       "    </tr>\n",
       "  </thead>\n",
       "  <tbody>\n",
       "    <tr>\n",
       "      <th>0</th>\n",
       "      <td>2015-12-31</td>\n",
       "      <td>A</td>\n",
       "      <td>41.810001</td>\n",
       "    </tr>\n",
       "    <tr>\n",
       "      <th>1</th>\n",
       "      <td>2016-01-04</td>\n",
       "      <td>A</td>\n",
       "      <td>40.689999</td>\n",
       "    </tr>\n",
       "    <tr>\n",
       "      <th>2</th>\n",
       "      <td>2016-01-05</td>\n",
       "      <td>A</td>\n",
       "      <td>40.549999</td>\n",
       "    </tr>\n",
       "    <tr>\n",
       "      <th>3</th>\n",
       "      <td>2016-01-06</td>\n",
       "      <td>A</td>\n",
       "      <td>40.730000</td>\n",
       "    </tr>\n",
       "    <tr>\n",
       "      <th>4</th>\n",
       "      <td>2016-01-07</td>\n",
       "      <td>A</td>\n",
       "      <td>39.000000</td>\n",
       "    </tr>\n",
       "  </tbody>\n",
       "</table>\n",
       "</div>"
      ],
      "text/plain": [
       "          dt ticker      price\n",
       "0 2015-12-31      A  41.810001\n",
       "1 2016-01-04      A  40.689999\n",
       "2 2016-01-05      A  40.549999\n",
       "3 2016-01-06      A  40.730000\n",
       "4 2016-01-07      A  39.000000"
      ]
     },
     "execution_count": 16,
     "metadata": {},
     "output_type": "execute_result"
    }
   ],
   "source": [
    "prices.head()"
   ]
  },
  {
   "cell_type": "markdown",
   "metadata": {
    "slideshow": {
     "slide_type": "subslide"
    }
   },
   "source": [
    "### Treasury Bills\n",
    "\n",
    "We will use the (annualized) return on US treasury bills as a baseline \"risk-free\" return.\n",
    "\n",
    "A treasury bill is a form of government debt in which you pay the government a price $p_{\\tau}$ at time $t$ and are repaid \\\\$1,000 at time $t + \\tau$ (with time measured in months).\n",
    "\n",
    "The implied return is then $r = \\times \\frac{1000 - p}{p}$ which can then be annualized based on the maturity $\\tau$ by \n",
    "\n",
    "$$r_{\\text{annualized}} = 1 - \\left(1 + \\frac{1000 -  p}{p} \\right)^{\\frac{12}{\\tau}}$$\n",
    "\n",
    "We will report the rates in annual percent return (i.e. $r_\\text{annualized} = 0.01$ will be reported as 1\\%)."
   ]
  },
  {
   "cell_type": "code",
   "execution_count": 10,
   "metadata": {
    "slideshow": {
     "slide_type": "fragment"
    }
   },
   "outputs": [],
   "source": [
    "# tbills = DataReader(\n",
    "#     \"DTB3\", \"fred\", start=2014, end=2021\n",
    "# ).reset_index().rename(\n",
    "#     columns={\"DTB3\": \"riskfree\", \"DATE\": \"dt\"}\n",
    "# ).groupby(\n",
    "#     pd.Grouper(key=\"dt\", freq=\"M\")\n",
    "# ).mean()\n",
    "\n",
    "# # Convert to monthly\n",
    "# tbills[\"riskfree\"] = tbills.eval(\n",
    "#     \"100 * ((1 + riskfree/100)**(1/12) - 1)\"\n",
    "# )\n",
    "\n",
    "# tbills.reset_index().to_parquet(\"./sp500_tbills.parquet\")\n",
    "\n",
    "\n",
    "tbtills = pd.read_parquet(\"./sp500_tbills.parquet\").set_index(\"dt\")"
   ]
  },
  {
   "cell_type": "code",
   "execution_count": 14,
   "metadata": {},
   "outputs": [
    {
     "data": {
      "text/html": [
       "<div>\n",
       "<style scoped>\n",
       "    .dataframe tbody tr th:only-of-type {\n",
       "        vertical-align: middle;\n",
       "    }\n",
       "\n",
       "    .dataframe tbody tr th {\n",
       "        vertical-align: top;\n",
       "    }\n",
       "\n",
       "    .dataframe thead th {\n",
       "        text-align: right;\n",
       "    }\n",
       "</style>\n",
       "<table border=\"1\" class=\"dataframe\">\n",
       "  <thead>\n",
       "    <tr style=\"text-align: right;\">\n",
       "      <th></th>\n",
       "      <th>riskfree</th>\n",
       "    </tr>\n",
       "    <tr>\n",
       "      <th>dt</th>\n",
       "      <th></th>\n",
       "    </tr>\n",
       "  </thead>\n",
       "  <tbody>\n",
       "    <tr>\n",
       "      <th>2014-01-31</th>\n",
       "      <td>0.003610</td>\n",
       "    </tr>\n",
       "    <tr>\n",
       "      <th>2014-02-28</th>\n",
       "      <td>0.004385</td>\n",
       "    </tr>\n",
       "    <tr>\n",
       "      <th>2014-03-31</th>\n",
       "      <td>0.004364</td>\n",
       "    </tr>\n",
       "    <tr>\n",
       "      <th>2014-04-30</th>\n",
       "      <td>0.002579</td>\n",
       "    </tr>\n",
       "    <tr>\n",
       "      <th>2014-05-31</th>\n",
       "      <td>0.002698</td>\n",
       "    </tr>\n",
       "    <tr>\n",
       "      <th>...</th>\n",
       "      <td>...</td>\n",
       "    </tr>\n",
       "    <tr>\n",
       "      <th>2020-09-30</th>\n",
       "      <td>0.009043</td>\n",
       "    </tr>\n",
       "    <tr>\n",
       "      <th>2020-10-31</th>\n",
       "      <td>0.008369</td>\n",
       "    </tr>\n",
       "    <tr>\n",
       "      <th>2020-11-30</th>\n",
       "      <td>0.007585</td>\n",
       "    </tr>\n",
       "    <tr>\n",
       "      <th>2020-12-31</th>\n",
       "      <td>0.007270</td>\n",
       "    </tr>\n",
       "    <tr>\n",
       "      <th>2021-01-31</th>\n",
       "      <td>NaN</td>\n",
       "    </tr>\n",
       "  </tbody>\n",
       "</table>\n",
       "<p>85 rows × 1 columns</p>\n",
       "</div>"
      ],
      "text/plain": [
       "            riskfree\n",
       "dt                  \n",
       "2014-01-31  0.003610\n",
       "2014-02-28  0.004385\n",
       "2014-03-31  0.004364\n",
       "2014-04-30  0.002579\n",
       "2014-05-31  0.002698\n",
       "...              ...\n",
       "2020-09-30  0.009043\n",
       "2020-10-31  0.008369\n",
       "2020-11-30  0.007585\n",
       "2020-12-31  0.007270\n",
       "2021-01-31       NaN\n",
       "\n",
       "[85 rows x 1 columns]"
      ]
     },
     "execution_count": 14,
     "metadata": {},
     "output_type": "execute_result"
    }
   ],
   "source": []
  },
  {
   "cell_type": "code",
   "execution_count": 11,
   "metadata": {
    "slideshow": {
     "slide_type": "-"
    }
   },
   "outputs": [
    {
     "data": {
      "text/html": [
       "<div>\n",
       "<style scoped>\n",
       "    .dataframe tbody tr th:only-of-type {\n",
       "        vertical-align: middle;\n",
       "    }\n",
       "\n",
       "    .dataframe tbody tr th {\n",
       "        vertical-align: top;\n",
       "    }\n",
       "\n",
       "    .dataframe thead th {\n",
       "        text-align: right;\n",
       "    }\n",
       "</style>\n",
       "<table border=\"1\" class=\"dataframe\">\n",
       "  <thead>\n",
       "    <tr style=\"text-align: right;\">\n",
       "      <th></th>\n",
       "      <th>riskfree</th>\n",
       "    </tr>\n",
       "    <tr>\n",
       "      <th>dt</th>\n",
       "      <th></th>\n",
       "    </tr>\n",
       "  </thead>\n",
       "  <tbody>\n",
       "    <tr>\n",
       "      <th>2020-09-30</th>\n",
       "      <td>0.009043</td>\n",
       "    </tr>\n",
       "    <tr>\n",
       "      <th>2020-10-31</th>\n",
       "      <td>0.008369</td>\n",
       "    </tr>\n",
       "    <tr>\n",
       "      <th>2020-11-30</th>\n",
       "      <td>0.007585</td>\n",
       "    </tr>\n",
       "    <tr>\n",
       "      <th>2020-12-31</th>\n",
       "      <td>0.007270</td>\n",
       "    </tr>\n",
       "    <tr>\n",
       "      <th>2021-01-31</th>\n",
       "      <td>NaN</td>\n",
       "    </tr>\n",
       "  </tbody>\n",
       "</table>\n",
       "</div>"
      ],
      "text/plain": [
       "            riskfree\n",
       "dt                  \n",
       "2020-09-30  0.009043\n",
       "2020-10-31  0.008369\n",
       "2020-11-30  0.007585\n",
       "2020-12-31  0.007270\n",
       "2021-01-31       NaN"
      ]
     },
     "execution_count": 11,
     "metadata": {},
     "output_type": "execute_result"
    }
   ],
   "source": [
    "tbills.tail()"
   ]
  },
  {
   "cell_type": "markdown",
   "metadata": {
    "slideshow": {
     "slide_type": "subslide"
    }
   },
   "source": [
    "### Merging metadata and prices\n",
    "\n",
    "Eventually we will want to \"group\" certain stocks together based on characteristics from their metadata.\n",
    "\n",
    "We allow for this by merging the metadata and price data:"
   ]
  },
  {
   "cell_type": "code",
   "execution_count": 12,
   "metadata": {
    "slideshow": {
     "slide_type": "-"
    }
   },
   "outputs": [
    {
     "data": {
      "text/html": [
       "<div>\n",
       "<style scoped>\n",
       "    .dataframe tbody tr th:only-of-type {\n",
       "        vertical-align: middle;\n",
       "    }\n",
       "\n",
       "    .dataframe tbody tr th {\n",
       "        vertical-align: top;\n",
       "    }\n",
       "\n",
       "    .dataframe thead th {\n",
       "        text-align: right;\n",
       "    }\n",
       "</style>\n",
       "<table border=\"1\" class=\"dataframe\">\n",
       "  <thead>\n",
       "    <tr style=\"text-align: right;\">\n",
       "      <th></th>\n",
       "      <th>dt</th>\n",
       "      <th>ticker</th>\n",
       "      <th>price</th>\n",
       "      <th>gics</th>\n",
       "      <th>gics_subindustry</th>\n",
       "    </tr>\n",
       "  </thead>\n",
       "  <tbody>\n",
       "    <tr>\n",
       "      <th>0</th>\n",
       "      <td>2015-12-31</td>\n",
       "      <td>A</td>\n",
       "      <td>41.810001</td>\n",
       "      <td>Health Care</td>\n",
       "      <td>Health Care Equipment</td>\n",
       "    </tr>\n",
       "    <tr>\n",
       "      <th>1</th>\n",
       "      <td>2016-01-04</td>\n",
       "      <td>A</td>\n",
       "      <td>40.689999</td>\n",
       "      <td>Health Care</td>\n",
       "      <td>Health Care Equipment</td>\n",
       "    </tr>\n",
       "    <tr>\n",
       "      <th>2</th>\n",
       "      <td>2016-01-05</td>\n",
       "      <td>A</td>\n",
       "      <td>40.549999</td>\n",
       "      <td>Health Care</td>\n",
       "      <td>Health Care Equipment</td>\n",
       "    </tr>\n",
       "    <tr>\n",
       "      <th>3</th>\n",
       "      <td>2016-01-06</td>\n",
       "      <td>A</td>\n",
       "      <td>40.730000</td>\n",
       "      <td>Health Care</td>\n",
       "      <td>Health Care Equipment</td>\n",
       "    </tr>\n",
       "    <tr>\n",
       "      <th>4</th>\n",
       "      <td>2016-01-07</td>\n",
       "      <td>A</td>\n",
       "      <td>39.000000</td>\n",
       "      <td>Health Care</td>\n",
       "      <td>Health Care Equipment</td>\n",
       "    </tr>\n",
       "  </tbody>\n",
       "</table>\n",
       "</div>"
      ],
      "text/plain": [
       "          dt ticker      price         gics       gics_subindustry\n",
       "0 2015-12-31      A  41.810001  Health Care  Health Care Equipment\n",
       "1 2016-01-04      A  40.689999  Health Care  Health Care Equipment\n",
       "2 2016-01-05      A  40.549999  Health Care  Health Care Equipment\n",
       "3 2016-01-06      A  40.730000  Health Care  Health Care Equipment\n",
       "4 2016-01-07      A  39.000000  Health Care  Health Care Equipment"
      ]
     },
     "execution_count": 12,
     "metadata": {},
     "output_type": "execute_result"
    }
   ],
   "source": [
    "df = prices.merge(\n",
    "    sp500.loc[:, [\"ticker\", \"gics\", \"gics_subindustry\"]],\n",
    "    on=\"ticker\", how=\"left\"\n",
    ").sort_values([\"ticker\", \"dt\"])\n",
    "\n",
    "df.head()"
   ]
  },
  {
   "cell_type": "markdown",
   "metadata": {
    "slideshow": {
     "slide_type": "subslide"
    }
   },
   "source": [
    "### Computing returns and merging T-bills\n",
    "\n",
    "We will need to compute returns at various points in time.\n",
    "\n",
    "We define a function to help us do this:"
   ]
  },
  {
   "cell_type": "code",
   "execution_count": 20,
   "metadata": {
    "slideshow": {
     "slide_type": "fragment"
    }
   },
   "outputs": [
    {
     "name": "stdout",
     "output_type": "stream",
     "text": [
      "[*********             18%                       ]  91 of 507 completed"
     ]
    }
   ],
   "source": [
    "def compute_returns(df_in, freq=\"M\"):\n",
    "    gb = df_in.groupby(\n",
    "        [\"ticker\", pd.Grouper(key=\"dt\", freq=freq)]\n",
    "    )\n",
    "\n",
    "    # Get start and end prices\n",
    "    sp500_ms = gb[\"price\"].first()\n",
    "    sp500_me = gb[\"price\"].last()\n",
    "\n",
    "    # Return last value of every other column\n",
    "    out = pd.DataFrame(\n",
    "        100 * (sp500_me - sp500_ms) / sp500_ms\n",
    "    ).rename(\n",
    "        columns={\"price\": \"returns\"}\n",
    "    ).reset_index()\n",
    "\n",
    "    cols_to_iterate = [\n",
    "        c for c in df_in.columns\n",
    "        if c not in [\"dt\", \"ticker\", \"price\"]\n",
    "    ]\n",
    "    for c in cols_to_iterate:\n",
    "        out.loc[:, c] = gb[c].last().values\n",
    "\n",
    "    return out\n"
   ]
  },
  {
   "cell_type": "code",
   "execution_count": 21,
   "metadata": {
    "slideshow": {
     "slide_type": "-"
    }
   },
   "outputs": [
    {
     "name": "stdout",
     "output_type": "stream",
     "text": [
      "[****************      34%                       ]  170 of 507 completed"
     ]
    }
   ],
   "source": [
    "returns = compute_returns(df)\n",
    "\n",
    "component_returns = returns.query(\"ticker != 'sp500'\")\n",
    "index_returns = returns.query(\n",
    "    \"ticker == 'sp500'\"\n",
    ").loc[:, [\"dt\", \"returns\"]].rename(\n",
    "    columns={\"returns\": \"market\"}\n",
    ")"
   ]
  },
  {
   "cell_type": "code",
   "execution_count": 22,
   "metadata": {
    "slideshow": {
     "slide_type": "-"
    }
   },
   "outputs": [
    {
     "name": "stdout",
     "output_type": "stream",
     "text": [
      "[****************      34%                       ]  171 of 507 completed"
     ]
    },
    {
     "data": {
      "text/html": [
       "<div>\n",
       "<style scoped>\n",
       "    .dataframe tbody tr th:only-of-type {\n",
       "        vertical-align: middle;\n",
       "    }\n",
       "\n",
       "    .dataframe tbody tr th {\n",
       "        vertical-align: top;\n",
       "    }\n",
       "\n",
       "    .dataframe thead th {\n",
       "        text-align: right;\n",
       "    }\n",
       "</style>\n",
       "<table border=\"1\" class=\"dataframe\">\n",
       "  <thead>\n",
       "    <tr style=\"text-align: right;\">\n",
       "      <th></th>\n",
       "      <th>ticker</th>\n",
       "      <th>dt</th>\n",
       "      <th>returns</th>\n",
       "      <th>gics</th>\n",
       "      <th>gics_subindustry</th>\n",
       "    </tr>\n",
       "  </thead>\n",
       "  <tbody>\n",
       "    <tr>\n",
       "      <th>30861</th>\n",
       "      <td>ZTS</td>\n",
       "      <td>2020-08-31</td>\n",
       "      <td>3.617896</td>\n",
       "      <td>Health Care</td>\n",
       "      <td>Pharmaceuticals</td>\n",
       "    </tr>\n",
       "    <tr>\n",
       "      <th>30862</th>\n",
       "      <td>ZTS</td>\n",
       "      <td>2020-09-30</td>\n",
       "      <td>2.048745</td>\n",
       "      <td>Health Care</td>\n",
       "      <td>Pharmaceuticals</td>\n",
       "    </tr>\n",
       "    <tr>\n",
       "      <th>30863</th>\n",
       "      <td>ZTS</td>\n",
       "      <td>2020-10-31</td>\n",
       "      <td>-3.340850</td>\n",
       "      <td>Health Care</td>\n",
       "      <td>Pharmaceuticals</td>\n",
       "    </tr>\n",
       "    <tr>\n",
       "      <th>30864</th>\n",
       "      <td>ZTS</td>\n",
       "      <td>2020-11-30</td>\n",
       "      <td>-1.540914</td>\n",
       "      <td>Health Care</td>\n",
       "      <td>Pharmaceuticals</td>\n",
       "    </tr>\n",
       "    <tr>\n",
       "      <th>30865</th>\n",
       "      <td>ZTS</td>\n",
       "      <td>2020-12-31</td>\n",
       "      <td>2.565691</td>\n",
       "      <td>Health Care</td>\n",
       "      <td>Pharmaceuticals</td>\n",
       "    </tr>\n",
       "  </tbody>\n",
       "</table>\n",
       "</div>"
      ],
      "text/plain": [
       "      ticker         dt   returns         gics gics_subindustry\n",
       "30861    ZTS 2020-08-31  3.617896  Health Care  Pharmaceuticals\n",
       "30862    ZTS 2020-09-30  2.048745  Health Care  Pharmaceuticals\n",
       "30863    ZTS 2020-10-31 -3.340850  Health Care  Pharmaceuticals\n",
       "30864    ZTS 2020-11-30 -1.540914  Health Care  Pharmaceuticals\n",
       "30865    ZTS 2020-12-31  2.565691  Health Care  Pharmaceuticals"
      ]
     },
     "execution_count": 22,
     "metadata": {},
     "output_type": "execute_result"
    },
    {
     "name": "stdout",
     "output_type": "stream",
     "text": [
      "[******************    37%                       ]  188 of 507 completed"
     ]
    }
   ],
   "source": [
    "component_returns.tail()"
   ]
  },
  {
   "cell_type": "code",
   "execution_count": 23,
   "metadata": {
    "slideshow": {
     "slide_type": "fragment"
    }
   },
   "outputs": [
    {
     "name": "stdout",
     "output_type": "stream",
     "text": [
      "[******************    38%                       ]  195 of 507 completed"
     ]
    }
   ],
   "source": [
    "returns = component_returns.merge(\n",
    "    tbills, on=\"dt\", how=\"left\"\n",
    ").merge(\n",
    "    index_returns, on=\"dt\", how=\"left\"\n",
    ").dropna()"
   ]
  },
  {
   "cell_type": "code",
   "execution_count": 24,
   "metadata": {
    "slideshow": {
     "slide_type": "-"
    }
   },
   "outputs": [
    {
     "data": {
      "text/html": [
       "<div>\n",
       "<style scoped>\n",
       "    .dataframe tbody tr th:only-of-type {\n",
       "        vertical-align: middle;\n",
       "    }\n",
       "\n",
       "    .dataframe tbody tr th {\n",
       "        vertical-align: top;\n",
       "    }\n",
       "\n",
       "    .dataframe thead th {\n",
       "        text-align: right;\n",
       "    }\n",
       "</style>\n",
       "<table border=\"1\" class=\"dataframe\">\n",
       "  <thead>\n",
       "    <tr style=\"text-align: right;\">\n",
       "      <th></th>\n",
       "      <th>ticker</th>\n",
       "      <th>dt</th>\n",
       "      <th>returns</th>\n",
       "      <th>gics</th>\n",
       "      <th>gics_subindustry</th>\n",
       "      <th>riskfree</th>\n",
       "      <th>market</th>\n",
       "    </tr>\n",
       "  </thead>\n",
       "  <tbody>\n",
       "    <tr>\n",
       "      <th>0</th>\n",
       "      <td>A</td>\n",
       "      <td>2015-12-31</td>\n",
       "      <td>0.000000</td>\n",
       "      <td>Health Care</td>\n",
       "      <td>Health Care Equipment</td>\n",
       "      <td>0.018957</td>\n",
       "      <td>0.000000</td>\n",
       "    </tr>\n",
       "    <tr>\n",
       "      <th>1</th>\n",
       "      <td>A</td>\n",
       "      <td>2016-01-31</td>\n",
       "      <td>-7.471116</td>\n",
       "      <td>Health Care</td>\n",
       "      <td>Health Care Equipment</td>\n",
       "      <td>0.021247</td>\n",
       "      <td>-3.598225</td>\n",
       "    </tr>\n",
       "    <tr>\n",
       "      <th>2</th>\n",
       "      <td>A</td>\n",
       "      <td>2016-02-29</td>\n",
       "      <td>-0.902096</td>\n",
       "      <td>Health Care</td>\n",
       "      <td>Health Care Equipment</td>\n",
       "      <td>0.026004</td>\n",
       "      <td>-0.368676</td>\n",
       "    </tr>\n",
       "    <tr>\n",
       "      <th>3</th>\n",
       "      <td>A</td>\n",
       "      <td>2016-03-31</td>\n",
       "      <td>3.265090</td>\n",
       "      <td>Health Care</td>\n",
       "      <td>Health Care Equipment</td>\n",
       "      <td>0.024475</td>\n",
       "      <td>4.114035</td>\n",
       "    </tr>\n",
       "    <tr>\n",
       "      <th>4</th>\n",
       "      <td>A</td>\n",
       "      <td>2016-04-30</td>\n",
       "      <td>1.513264</td>\n",
       "      <td>Health Care</td>\n",
       "      <td>Health Care Equipment</td>\n",
       "      <td>0.018988</td>\n",
       "      <td>-0.360867</td>\n",
       "    </tr>\n",
       "  </tbody>\n",
       "</table>\n",
       "</div>"
      ],
      "text/plain": [
       "  ticker         dt   returns         gics       gics_subindustry  riskfree  \\\n",
       "0      A 2015-12-31  0.000000  Health Care  Health Care Equipment  0.018957   \n",
       "1      A 2016-01-31 -7.471116  Health Care  Health Care Equipment  0.021247   \n",
       "2      A 2016-02-29 -0.902096  Health Care  Health Care Equipment  0.026004   \n",
       "3      A 2016-03-31  3.265090  Health Care  Health Care Equipment  0.024475   \n",
       "4      A 2016-04-30  1.513264  Health Care  Health Care Equipment  0.018988   \n",
       "\n",
       "     market  \n",
       "0  0.000000  \n",
       "1 -3.598225  \n",
       "2 -0.368676  \n",
       "3  4.114035  \n",
       "4 -0.360867  "
      ]
     },
     "execution_count": 24,
     "metadata": {},
     "output_type": "execute_result"
    },
    {
     "name": "stdout",
     "output_type": "stream",
     "text": [
      "[********************* 43%                       ]  218 of 507 completed"
     ]
    }
   ],
   "source": [
    "returns.head()"
   ]
  },
  {
   "cell_type": "markdown",
   "metadata": {
    "slideshow": {
     "slide_type": "slide"
    }
   },
   "source": [
    "## A Common Approach to CAPM:\n",
    "\n",
    "A common approach to CAPM is to specify a completely separate regression for each stock.\n",
    "\n",
    "We will build a Bayesian version of this regression (to keep the baseline methodology similar), but this regression could also be done (more quickly) using least squares...\n",
    "\n",
    "Our model will be described by\n",
    "\n",
    "\\begin{align*}\n",
    "   r_{i, t} - r_{f, t} &= \\beta_i (r_{m, t} - r_{f, t}) + \\sigma_i \\varepsilon_{i, t}\\\\\n",
    "   \\sigma_i &\\sim \\text{HalfStudentT}(4) \\\\\n",
    "   \\beta_i &\\sim N(0, 5)\n",
    "\\end{align*}"
   ]
  },
  {
   "cell_type": "markdown",
   "metadata": {
    "slideshow": {
     "slide_type": "slide"
    }
   },
   "source": [
    "### Single stock\n",
    "\n",
    "We begin by just computing the $\\beta_{\\text{ZM}}$ and $\\sigma_{\\text{ZM}}$ for Zoom"
   ]
  },
  {
   "cell_type": "code",
   "execution_count": 25,
   "metadata": {
    "slideshow": {
     "slide_type": "-"
    }
   },
   "outputs": [
    {
     "name": "stdout",
     "output_type": "stream",
     "text": [
      "[**********************56%**                     ]  286 of 507 completed"
     ]
    },
    {
     "ename": "KeyboardInterrupt",
     "evalue": "",
     "output_type": "error",
     "traceback": [
      "\u001b[0;31m---------------------------------------------------------------------------\u001b[0m",
      "\u001b[0;31mKeyboardInterrupt\u001b[0m                         Traceback (most recent call last)",
      "\u001b[0;32m<ipython-input-25-2f542494b48b>\u001b[0m in \u001b[0;36m<module>\u001b[0;34m\u001b[0m\n\u001b[1;32m     16\u001b[0m \u001b[0;34m\u001b[0m\u001b[0m\n\u001b[1;32m     17\u001b[0m     \u001b[0;31m# Likelihood\u001b[0m\u001b[0;34m\u001b[0m\u001b[0;34m\u001b[0m\u001b[0;34m\u001b[0m\u001b[0m\n\u001b[0;32m---> 18\u001b[0;31m     \u001b[0mll\u001b[0m \u001b[0;34m=\u001b[0m \u001b[0mpm\u001b[0m\u001b[0;34m.\u001b[0m\u001b[0mNormal\u001b[0m\u001b[0;34m(\u001b[0m\u001b[0;34m\"ll\"\u001b[0m\u001b[0;34m,\u001b[0m \u001b[0mbeta_i\u001b[0m\u001b[0;34m*\u001b[0m\u001b[0m_rm_m_rf\u001b[0m\u001b[0;34m,\u001b[0m \u001b[0msigma_i\u001b[0m\u001b[0;34m,\u001b[0m \u001b[0mobserved\u001b[0m\u001b[0;34m=\u001b[0m\u001b[0m_ri_m_rf\u001b[0m\u001b[0;34m)\u001b[0m\u001b[0;34m\u001b[0m\u001b[0;34m\u001b[0m\u001b[0m\n\u001b[0m",
      "\u001b[0;32m~/anaconda3/envs/css/lib/python3.9/site-packages/theano/tensor/var.py\u001b[0m in \u001b[0;36m__mul__\u001b[0;34m(self, other)\u001b[0m\n\u001b[1;32m    126\u001b[0m         \u001b[0;31m# and the return value in that case\u001b[0m\u001b[0;34m\u001b[0m\u001b[0;34m\u001b[0m\u001b[0;34m\u001b[0m\u001b[0m\n\u001b[1;32m    127\u001b[0m         \u001b[0;32mtry\u001b[0m\u001b[0;34m:\u001b[0m\u001b[0;34m\u001b[0m\u001b[0;34m\u001b[0m\u001b[0m\n\u001b[0;32m--> 128\u001b[0;31m             \u001b[0;32mreturn\u001b[0m \u001b[0mtheano\u001b[0m\u001b[0;34m.\u001b[0m\u001b[0mtensor\u001b[0m\u001b[0;34m.\u001b[0m\u001b[0mmul\u001b[0m\u001b[0;34m(\u001b[0m\u001b[0mself\u001b[0m\u001b[0;34m,\u001b[0m \u001b[0mother\u001b[0m\u001b[0;34m)\u001b[0m\u001b[0;34m\u001b[0m\u001b[0;34m\u001b[0m\u001b[0m\n\u001b[0m\u001b[1;32m    129\u001b[0m         \u001b[0;32mexcept\u001b[0m \u001b[0;34m(\u001b[0m\u001b[0mNotImplementedError\u001b[0m\u001b[0;34m,\u001b[0m \u001b[0mTypeError\u001b[0m\u001b[0;34m)\u001b[0m\u001b[0;34m:\u001b[0m\u001b[0;34m\u001b[0m\u001b[0;34m\u001b[0m\u001b[0m\n\u001b[1;32m    130\u001b[0m             \u001b[0;32mreturn\u001b[0m \u001b[0mNotImplemented\u001b[0m\u001b[0;34m\u001b[0m\u001b[0;34m\u001b[0m\u001b[0m\n",
      "\u001b[0;32m~/anaconda3/envs/css/lib/python3.9/site-packages/theano/graph/op.py\u001b[0m in \u001b[0;36m__call__\u001b[0;34m(self, *inputs, **kwargs)\u001b[0m\n\u001b[1;32m    248\u001b[0m         \"\"\"\n\u001b[1;32m    249\u001b[0m         \u001b[0mreturn_list\u001b[0m \u001b[0;34m=\u001b[0m \u001b[0mkwargs\u001b[0m\u001b[0;34m.\u001b[0m\u001b[0mpop\u001b[0m\u001b[0;34m(\u001b[0m\u001b[0;34m\"return_list\"\u001b[0m\u001b[0;34m,\u001b[0m \u001b[0;32mFalse\u001b[0m\u001b[0;34m)\u001b[0m\u001b[0;34m\u001b[0m\u001b[0;34m\u001b[0m\u001b[0m\n\u001b[0;32m--> 250\u001b[0;31m         \u001b[0mnode\u001b[0m \u001b[0;34m=\u001b[0m \u001b[0mself\u001b[0m\u001b[0;34m.\u001b[0m\u001b[0mmake_node\u001b[0m\u001b[0;34m(\u001b[0m\u001b[0;34m*\u001b[0m\u001b[0minputs\u001b[0m\u001b[0;34m,\u001b[0m \u001b[0;34m**\u001b[0m\u001b[0mkwargs\u001b[0m\u001b[0;34m)\u001b[0m\u001b[0;34m\u001b[0m\u001b[0;34m\u001b[0m\u001b[0m\n\u001b[0m\u001b[1;32m    251\u001b[0m \u001b[0;34m\u001b[0m\u001b[0m\n\u001b[1;32m    252\u001b[0m         \u001b[0;32mif\u001b[0m \u001b[0mconfig\u001b[0m\u001b[0;34m.\u001b[0m\u001b[0mcompute_test_value\u001b[0m \u001b[0;34m!=\u001b[0m \u001b[0;34m\"off\"\u001b[0m\u001b[0;34m:\u001b[0m\u001b[0;34m\u001b[0m\u001b[0;34m\u001b[0m\u001b[0m\n",
      "\u001b[0;32m~/anaconda3/envs/css/lib/python3.9/site-packages/theano/tensor/elemwise.py\u001b[0m in \u001b[0;36mmake_node\u001b[0;34m(self, *inputs)\u001b[0m\n\u001b[1;32m    498\u001b[0m         \"\"\"\n\u001b[1;32m    499\u001b[0m         \u001b[0minputs\u001b[0m \u001b[0;34m=\u001b[0m \u001b[0mlist\u001b[0m\u001b[0;34m(\u001b[0m\u001b[0mmap\u001b[0m\u001b[0;34m(\u001b[0m\u001b[0mas_tensor_variable\u001b[0m\u001b[0;34m,\u001b[0m \u001b[0minputs\u001b[0m\u001b[0;34m)\u001b[0m\u001b[0;34m)\u001b[0m\u001b[0;34m\u001b[0m\u001b[0;34m\u001b[0m\u001b[0m\n\u001b[0;32m--> 500\u001b[0;31m         out_dtypes, out_broadcastables, inputs = self.get_output_info(\n\u001b[0m\u001b[1;32m    501\u001b[0m             \u001b[0mDimShuffle\u001b[0m\u001b[0;34m,\u001b[0m \u001b[0;34m*\u001b[0m\u001b[0minputs\u001b[0m\u001b[0;34m\u001b[0m\u001b[0;34m\u001b[0m\u001b[0m\n\u001b[1;32m    502\u001b[0m         )\n",
      "\u001b[0;32m~/anaconda3/envs/css/lib/python3.9/site-packages/theano/tensor/elemwise.py\u001b[0m in \u001b[0;36mget_output_info\u001b[0;34m(self, dim_shuffle, *inputs)\u001b[0m\n\u001b[1;32m    442\u001b[0m                 \u001b[0;31m# TODO: use LComplete instead\u001b[0m\u001b[0;34m\u001b[0m\u001b[0;34m\u001b[0m\u001b[0;34m\u001b[0m\u001b[0m\n\u001b[1;32m    443\u001b[0m                 args.append(\n\u001b[0;32m--> 444\u001b[0;31m                     dim_shuffle(\n\u001b[0m\u001b[1;32m    445\u001b[0m                         \u001b[0minput\u001b[0m\u001b[0;34m.\u001b[0m\u001b[0mtype\u001b[0m\u001b[0;34m.\u001b[0m\u001b[0mbroadcastable\u001b[0m\u001b[0;34m,\u001b[0m\u001b[0;34m\u001b[0m\u001b[0;34m\u001b[0m\u001b[0m\n\u001b[1;32m    446\u001b[0m                         \u001b[0;34m[\u001b[0m\u001b[0;34m\"x\"\u001b[0m\u001b[0;34m]\u001b[0m \u001b[0;34m*\u001b[0m \u001b[0mdifference\u001b[0m \u001b[0;34m+\u001b[0m \u001b[0mlist\u001b[0m\u001b[0;34m(\u001b[0m\u001b[0mrange\u001b[0m\u001b[0;34m(\u001b[0m\u001b[0mlength\u001b[0m\u001b[0;34m)\u001b[0m\u001b[0;34m)\u001b[0m\u001b[0;34m,\u001b[0m\u001b[0;34m\u001b[0m\u001b[0;34m\u001b[0m\u001b[0m\n",
      "\u001b[0;32m~/anaconda3/envs/css/lib/python3.9/site-packages/theano/graph/op.py\u001b[0m in \u001b[0;36m__call__\u001b[0;34m(self, *inputs, **kwargs)\u001b[0m\n\u001b[1;32m    251\u001b[0m \u001b[0;34m\u001b[0m\u001b[0m\n\u001b[1;32m    252\u001b[0m         \u001b[0;32mif\u001b[0m \u001b[0mconfig\u001b[0m\u001b[0;34m.\u001b[0m\u001b[0mcompute_test_value\u001b[0m \u001b[0;34m!=\u001b[0m \u001b[0;34m\"off\"\u001b[0m\u001b[0;34m:\u001b[0m\u001b[0;34m\u001b[0m\u001b[0;34m\u001b[0m\u001b[0m\n\u001b[0;32m--> 253\u001b[0;31m             \u001b[0mcompute_test_value\u001b[0m\u001b[0;34m(\u001b[0m\u001b[0mnode\u001b[0m\u001b[0;34m)\u001b[0m\u001b[0;34m\u001b[0m\u001b[0;34m\u001b[0m\u001b[0m\n\u001b[0m\u001b[1;32m    254\u001b[0m \u001b[0;34m\u001b[0m\u001b[0m\n\u001b[1;32m    255\u001b[0m         \u001b[0;32mif\u001b[0m \u001b[0mself\u001b[0m\u001b[0;34m.\u001b[0m\u001b[0mdefault_output\u001b[0m \u001b[0;32mis\u001b[0m \u001b[0;32mnot\u001b[0m \u001b[0;32mNone\u001b[0m\u001b[0;34m:\u001b[0m\u001b[0;34m\u001b[0m\u001b[0;34m\u001b[0m\u001b[0m\n",
      "\u001b[0;32m~/anaconda3/envs/css/lib/python3.9/site-packages/theano/graph/op.py\u001b[0m in \u001b[0;36mcompute_test_value\u001b[0;34m(node)\u001b[0m\n\u001b[1;32m    124\u001b[0m \u001b[0;34m\u001b[0m\u001b[0m\n\u001b[1;32m    125\u001b[0m     \u001b[0;31m# Create a thunk that performs the computation\u001b[0m\u001b[0;34m\u001b[0m\u001b[0;34m\u001b[0m\u001b[0;34m\u001b[0m\u001b[0m\n\u001b[0;32m--> 126\u001b[0;31m     \u001b[0mthunk\u001b[0m \u001b[0;34m=\u001b[0m \u001b[0mnode\u001b[0m\u001b[0;34m.\u001b[0m\u001b[0mop\u001b[0m\u001b[0;34m.\u001b[0m\u001b[0mmake_thunk\u001b[0m\u001b[0;34m(\u001b[0m\u001b[0mnode\u001b[0m\u001b[0;34m,\u001b[0m \u001b[0mstorage_map\u001b[0m\u001b[0;34m,\u001b[0m \u001b[0mcompute_map\u001b[0m\u001b[0;34m,\u001b[0m \u001b[0mno_recycling\u001b[0m\u001b[0;34m=\u001b[0m\u001b[0;34m[\u001b[0m\u001b[0;34m]\u001b[0m\u001b[0;34m)\u001b[0m\u001b[0;34m\u001b[0m\u001b[0;34m\u001b[0m\u001b[0m\n\u001b[0m\u001b[1;32m    127\u001b[0m     \u001b[0mthunk\u001b[0m\u001b[0;34m.\u001b[0m\u001b[0minputs\u001b[0m \u001b[0;34m=\u001b[0m \u001b[0;34m[\u001b[0m\u001b[0mstorage_map\u001b[0m\u001b[0;34m[\u001b[0m\u001b[0mv\u001b[0m\u001b[0;34m]\u001b[0m \u001b[0;32mfor\u001b[0m \u001b[0mv\u001b[0m \u001b[0;32min\u001b[0m \u001b[0mnode\u001b[0m\u001b[0;34m.\u001b[0m\u001b[0minputs\u001b[0m\u001b[0;34m]\u001b[0m\u001b[0;34m\u001b[0m\u001b[0;34m\u001b[0m\u001b[0m\n\u001b[1;32m    128\u001b[0m     \u001b[0mthunk\u001b[0m\u001b[0;34m.\u001b[0m\u001b[0moutputs\u001b[0m \u001b[0;34m=\u001b[0m \u001b[0;34m[\u001b[0m\u001b[0mstorage_map\u001b[0m\u001b[0;34m[\u001b[0m\u001b[0mv\u001b[0m\u001b[0;34m]\u001b[0m \u001b[0;32mfor\u001b[0m \u001b[0mv\u001b[0m \u001b[0;32min\u001b[0m \u001b[0mnode\u001b[0m\u001b[0;34m.\u001b[0m\u001b[0moutputs\u001b[0m\u001b[0;34m]\u001b[0m\u001b[0;34m\u001b[0m\u001b[0;34m\u001b[0m\u001b[0m\n",
      "\u001b[0;32m~/anaconda3/envs/css/lib/python3.9/site-packages/theano/graph/op.py\u001b[0m in \u001b[0;36mmake_thunk\u001b[0;34m(self, node, storage_map, compute_map, no_recycling, impl)\u001b[0m\n\u001b[1;32m    632\u001b[0m             )\n\u001b[1;32m    633\u001b[0m             \u001b[0;32mtry\u001b[0m\u001b[0;34m:\u001b[0m\u001b[0;34m\u001b[0m\u001b[0;34m\u001b[0m\u001b[0m\n\u001b[0;32m--> 634\u001b[0;31m                 \u001b[0;32mreturn\u001b[0m \u001b[0mself\u001b[0m\u001b[0;34m.\u001b[0m\u001b[0mmake_c_thunk\u001b[0m\u001b[0;34m(\u001b[0m\u001b[0mnode\u001b[0m\u001b[0;34m,\u001b[0m \u001b[0mstorage_map\u001b[0m\u001b[0;34m,\u001b[0m \u001b[0mcompute_map\u001b[0m\u001b[0;34m,\u001b[0m \u001b[0mno_recycling\u001b[0m\u001b[0;34m)\u001b[0m\u001b[0;34m\u001b[0m\u001b[0;34m\u001b[0m\u001b[0m\n\u001b[0m\u001b[1;32m    635\u001b[0m             \u001b[0;32mexcept\u001b[0m \u001b[0;34m(\u001b[0m\u001b[0mNotImplementedError\u001b[0m\u001b[0;34m,\u001b[0m \u001b[0mMethodNotDefined\u001b[0m\u001b[0;34m)\u001b[0m\u001b[0;34m:\u001b[0m\u001b[0;34m\u001b[0m\u001b[0;34m\u001b[0m\u001b[0m\n\u001b[1;32m    636\u001b[0m                 \u001b[0;31m# We requested the c code, so don't catch the error.\u001b[0m\u001b[0;34m\u001b[0m\u001b[0;34m\u001b[0m\u001b[0;34m\u001b[0m\u001b[0m\n",
      "\u001b[0;32m~/anaconda3/envs/css/lib/python3.9/site-packages/theano/graph/op.py\u001b[0m in \u001b[0;36mmake_c_thunk\u001b[0;34m(self, node, storage_map, compute_map, no_recycling)\u001b[0m\n\u001b[1;32m    598\u001b[0m                 \u001b[0mprint\u001b[0m\u001b[0;34m(\u001b[0m\u001b[0;34mf\"Disabling C code for {self} due to unsupported float16\"\u001b[0m\u001b[0;34m)\u001b[0m\u001b[0;34m\u001b[0m\u001b[0;34m\u001b[0m\u001b[0m\n\u001b[1;32m    599\u001b[0m                 \u001b[0;32mraise\u001b[0m \u001b[0mNotImplementedError\u001b[0m\u001b[0;34m(\u001b[0m\u001b[0;34m\"float16\"\u001b[0m\u001b[0;34m)\u001b[0m\u001b[0;34m\u001b[0m\u001b[0;34m\u001b[0m\u001b[0m\n\u001b[0;32m--> 600\u001b[0;31m         outputs = cl.make_thunk(\n\u001b[0m\u001b[1;32m    601\u001b[0m             \u001b[0minput_storage\u001b[0m\u001b[0;34m=\u001b[0m\u001b[0mnode_input_storage\u001b[0m\u001b[0;34m,\u001b[0m \u001b[0moutput_storage\u001b[0m\u001b[0;34m=\u001b[0m\u001b[0mnode_output_storage\u001b[0m\u001b[0;34m\u001b[0m\u001b[0;34m\u001b[0m\u001b[0m\n\u001b[1;32m    602\u001b[0m         )\n",
      "\u001b[0;32m~/anaconda3/envs/css/lib/python3.9/site-packages/theano/link/c/basic.py\u001b[0m in \u001b[0;36mmake_thunk\u001b[0;34m(self, input_storage, output_storage, storage_map)\u001b[0m\n\u001b[1;32m   1201\u001b[0m         \"\"\"\n\u001b[1;32m   1202\u001b[0m         \u001b[0minit_tasks\u001b[0m\u001b[0;34m,\u001b[0m \u001b[0mtasks\u001b[0m \u001b[0;34m=\u001b[0m \u001b[0mself\u001b[0m\u001b[0;34m.\u001b[0m\u001b[0mget_init_tasks\u001b[0m\u001b[0;34m(\u001b[0m\u001b[0;34m)\u001b[0m\u001b[0;34m\u001b[0m\u001b[0;34m\u001b[0m\u001b[0m\n\u001b[0;32m-> 1203\u001b[0;31m         cthunk, module, in_storage, out_storage, error_storage = self.__compile__(\n\u001b[0m\u001b[1;32m   1204\u001b[0m             \u001b[0minput_storage\u001b[0m\u001b[0;34m,\u001b[0m \u001b[0moutput_storage\u001b[0m\u001b[0;34m,\u001b[0m \u001b[0mstorage_map\u001b[0m\u001b[0;34m\u001b[0m\u001b[0;34m\u001b[0m\u001b[0m\n\u001b[1;32m   1205\u001b[0m         )\n",
      "\u001b[0;32m~/anaconda3/envs/css/lib/python3.9/site-packages/theano/link/c/basic.py\u001b[0m in \u001b[0;36m__compile__\u001b[0;34m(self, input_storage, output_storage, storage_map)\u001b[0m\n\u001b[1;32m   1136\u001b[0m         \u001b[0minput_storage\u001b[0m \u001b[0;34m=\u001b[0m \u001b[0mtuple\u001b[0m\u001b[0;34m(\u001b[0m\u001b[0minput_storage\u001b[0m\u001b[0;34m)\u001b[0m\u001b[0;34m\u001b[0m\u001b[0;34m\u001b[0m\u001b[0m\n\u001b[1;32m   1137\u001b[0m         \u001b[0moutput_storage\u001b[0m \u001b[0;34m=\u001b[0m \u001b[0mtuple\u001b[0m\u001b[0;34m(\u001b[0m\u001b[0moutput_storage\u001b[0m\u001b[0;34m)\u001b[0m\u001b[0;34m\u001b[0m\u001b[0;34m\u001b[0m\u001b[0m\n\u001b[0;32m-> 1138\u001b[0;31m         thunk, module = self.cthunk_factory(\n\u001b[0m\u001b[1;32m   1139\u001b[0m             \u001b[0merror_storage\u001b[0m\u001b[0;34m,\u001b[0m\u001b[0;34m\u001b[0m\u001b[0;34m\u001b[0m\u001b[0m\n\u001b[1;32m   1140\u001b[0m             \u001b[0minput_storage\u001b[0m\u001b[0;34m,\u001b[0m\u001b[0;34m\u001b[0m\u001b[0;34m\u001b[0m\u001b[0m\n",
      "\u001b[0;32m~/anaconda3/envs/css/lib/python3.9/site-packages/theano/link/c/basic.py\u001b[0m in \u001b[0;36mcthunk_factory\u001b[0;34m(self, error_storage, in_storage, out_storage, storage_map)\u001b[0m\n\u001b[1;32m   1632\u001b[0m             \u001b[0;32mfor\u001b[0m \u001b[0mnode\u001b[0m \u001b[0;32min\u001b[0m \u001b[0mself\u001b[0m\u001b[0;34m.\u001b[0m\u001b[0mnode_order\u001b[0m\u001b[0;34m:\u001b[0m\u001b[0;34m\u001b[0m\u001b[0;34m\u001b[0m\u001b[0m\n\u001b[1;32m   1633\u001b[0m                 \u001b[0mnode\u001b[0m\u001b[0;34m.\u001b[0m\u001b[0mop\u001b[0m\u001b[0;34m.\u001b[0m\u001b[0mprepare_node\u001b[0m\u001b[0;34m(\u001b[0m\u001b[0mnode\u001b[0m\u001b[0;34m,\u001b[0m \u001b[0mstorage_map\u001b[0m\u001b[0;34m,\u001b[0m \u001b[0;32mNone\u001b[0m\u001b[0;34m,\u001b[0m \u001b[0;34m\"c\"\u001b[0m\u001b[0;34m)\u001b[0m\u001b[0;34m\u001b[0m\u001b[0;34m\u001b[0m\u001b[0m\n\u001b[0;32m-> 1634\u001b[0;31m             \u001b[0mmodule\u001b[0m \u001b[0;34m=\u001b[0m \u001b[0mget_module_cache\u001b[0m\u001b[0;34m(\u001b[0m\u001b[0;34m)\u001b[0m\u001b[0;34m.\u001b[0m\u001b[0mmodule_from_key\u001b[0m\u001b[0;34m(\u001b[0m\u001b[0mkey\u001b[0m\u001b[0;34m=\u001b[0m\u001b[0mkey\u001b[0m\u001b[0;34m,\u001b[0m \u001b[0mlnk\u001b[0m\u001b[0;34m=\u001b[0m\u001b[0mself\u001b[0m\u001b[0;34m)\u001b[0m\u001b[0;34m\u001b[0m\u001b[0;34m\u001b[0m\u001b[0m\n\u001b[0m\u001b[1;32m   1635\u001b[0m \u001b[0;34m\u001b[0m\u001b[0m\n\u001b[1;32m   1636\u001b[0m         \u001b[0mvars\u001b[0m \u001b[0;34m=\u001b[0m \u001b[0mself\u001b[0m\u001b[0;34m.\u001b[0m\u001b[0minputs\u001b[0m \u001b[0;34m+\u001b[0m \u001b[0mself\u001b[0m\u001b[0;34m.\u001b[0m\u001b[0moutputs\u001b[0m \u001b[0;34m+\u001b[0m \u001b[0mself\u001b[0m\u001b[0;34m.\u001b[0m\u001b[0morphans\u001b[0m\u001b[0;34m\u001b[0m\u001b[0;34m\u001b[0m\u001b[0m\n",
      "\u001b[0;32m~/anaconda3/envs/css/lib/python3.9/site-packages/theano/link/c/cmodule.py\u001b[0m in \u001b[0;36mmodule_from_key\u001b[0;34m(self, key, lnk)\u001b[0m\n\u001b[1;32m   1189\u001b[0m             \u001b[0;32mtry\u001b[0m\u001b[0;34m:\u001b[0m\u001b[0;34m\u001b[0m\u001b[0;34m\u001b[0m\u001b[0m\n\u001b[1;32m   1190\u001b[0m                 \u001b[0mlocation\u001b[0m \u001b[0;34m=\u001b[0m \u001b[0mdlimport_workdir\u001b[0m\u001b[0;34m(\u001b[0m\u001b[0mself\u001b[0m\u001b[0;34m.\u001b[0m\u001b[0mdirname\u001b[0m\u001b[0;34m)\u001b[0m\u001b[0;34m\u001b[0m\u001b[0;34m\u001b[0m\u001b[0m\n\u001b[0;32m-> 1191\u001b[0;31m                 \u001b[0mmodule\u001b[0m \u001b[0;34m=\u001b[0m \u001b[0mlnk\u001b[0m\u001b[0;34m.\u001b[0m\u001b[0mcompile_cmodule\u001b[0m\u001b[0;34m(\u001b[0m\u001b[0mlocation\u001b[0m\u001b[0;34m)\u001b[0m\u001b[0;34m\u001b[0m\u001b[0;34m\u001b[0m\u001b[0m\n\u001b[0m\u001b[1;32m   1192\u001b[0m                 \u001b[0mname\u001b[0m \u001b[0;34m=\u001b[0m \u001b[0mmodule\u001b[0m\u001b[0;34m.\u001b[0m\u001b[0m__file__\u001b[0m\u001b[0;34m\u001b[0m\u001b[0;34m\u001b[0m\u001b[0m\n\u001b[1;32m   1193\u001b[0m                 \u001b[0;32massert\u001b[0m \u001b[0mname\u001b[0m\u001b[0;34m.\u001b[0m\u001b[0mstartswith\u001b[0m\u001b[0;34m(\u001b[0m\u001b[0mlocation\u001b[0m\u001b[0;34m)\u001b[0m\u001b[0;34m\u001b[0m\u001b[0;34m\u001b[0m\u001b[0m\n",
      "\u001b[0;32m~/anaconda3/envs/css/lib/python3.9/site-packages/theano/link/c/basic.py\u001b[0m in \u001b[0;36mcompile_cmodule\u001b[0;34m(self, location)\u001b[0m\n\u001b[1;32m   1541\u001b[0m             \u001b[0;32mtry\u001b[0m\u001b[0;34m:\u001b[0m\u001b[0;34m\u001b[0m\u001b[0;34m\u001b[0m\u001b[0m\n\u001b[1;32m   1542\u001b[0m                 \u001b[0m_logger\u001b[0m\u001b[0;34m.\u001b[0m\u001b[0mdebug\u001b[0m\u001b[0;34m(\u001b[0m\u001b[0;34mf\"LOCATION {location}\"\u001b[0m\u001b[0;34m)\u001b[0m\u001b[0;34m\u001b[0m\u001b[0;34m\u001b[0m\u001b[0m\n\u001b[0;32m-> 1543\u001b[0;31m                 module = c_compiler.compile_str(\n\u001b[0m\u001b[1;32m   1544\u001b[0m                     \u001b[0mmodule_name\u001b[0m\u001b[0;34m=\u001b[0m\u001b[0mmod\u001b[0m\u001b[0;34m.\u001b[0m\u001b[0mcode_hash\u001b[0m\u001b[0;34m,\u001b[0m\u001b[0;34m\u001b[0m\u001b[0;34m\u001b[0m\u001b[0m\n\u001b[1;32m   1545\u001b[0m                     \u001b[0msrc_code\u001b[0m\u001b[0;34m=\u001b[0m\u001b[0msrc_code\u001b[0m\u001b[0;34m,\u001b[0m\u001b[0;34m\u001b[0m\u001b[0;34m\u001b[0m\u001b[0m\n",
      "\u001b[0;32m~/anaconda3/envs/css/lib/python3.9/site-packages/theano/link/c/cmodule.py\u001b[0m in \u001b[0;36mcompile_str\u001b[0;34m(module_name, src_code, location, include_dirs, lib_dirs, libs, preargs, py_module, hide_symbols)\u001b[0m\n\u001b[1;32m   2494\u001b[0m \u001b[0;34m\u001b[0m\u001b[0m\n\u001b[1;32m   2495\u001b[0m         \u001b[0;32mtry\u001b[0m\u001b[0;34m:\u001b[0m\u001b[0;34m\u001b[0m\u001b[0;34m\u001b[0m\u001b[0m\n\u001b[0;32m-> 2496\u001b[0;31m             \u001b[0mp_out\u001b[0m \u001b[0;34m=\u001b[0m \u001b[0moutput_subprocess_Popen\u001b[0m\u001b[0;34m(\u001b[0m\u001b[0mcmd\u001b[0m\u001b[0;34m)\u001b[0m\u001b[0;34m\u001b[0m\u001b[0;34m\u001b[0m\u001b[0m\n\u001b[0m\u001b[1;32m   2497\u001b[0m             \u001b[0mcompile_stderr\u001b[0m \u001b[0;34m=\u001b[0m \u001b[0mp_out\u001b[0m\u001b[0;34m[\u001b[0m\u001b[0;36m1\u001b[0m\u001b[0;34m]\u001b[0m\u001b[0;34m.\u001b[0m\u001b[0mdecode\u001b[0m\u001b[0;34m(\u001b[0m\u001b[0;34m)\u001b[0m\u001b[0;34m\u001b[0m\u001b[0;34m\u001b[0m\u001b[0m\n\u001b[1;32m   2498\u001b[0m         \u001b[0;32mexcept\u001b[0m \u001b[0mException\u001b[0m\u001b[0;34m:\u001b[0m\u001b[0;34m\u001b[0m\u001b[0;34m\u001b[0m\u001b[0m\n",
      "\u001b[0;32m~/anaconda3/envs/css/lib/python3.9/site-packages/theano/utils.py\u001b[0m in \u001b[0;36moutput_subprocess_Popen\u001b[0;34m(command, **params)\u001b[0m\n\u001b[1;32m    249\u001b[0m     \u001b[0mparams\u001b[0m\u001b[0;34m[\u001b[0m\u001b[0;34m\"stdout\"\u001b[0m\u001b[0;34m]\u001b[0m \u001b[0;34m=\u001b[0m \u001b[0msubprocess\u001b[0m\u001b[0;34m.\u001b[0m\u001b[0mPIPE\u001b[0m\u001b[0;34m\u001b[0m\u001b[0;34m\u001b[0m\u001b[0m\n\u001b[1;32m    250\u001b[0m     \u001b[0mparams\u001b[0m\u001b[0;34m[\u001b[0m\u001b[0;34m\"stderr\"\u001b[0m\u001b[0;34m]\u001b[0m \u001b[0;34m=\u001b[0m \u001b[0msubprocess\u001b[0m\u001b[0;34m.\u001b[0m\u001b[0mPIPE\u001b[0m\u001b[0;34m\u001b[0m\u001b[0;34m\u001b[0m\u001b[0m\n\u001b[0;32m--> 251\u001b[0;31m     \u001b[0mp\u001b[0m \u001b[0;34m=\u001b[0m \u001b[0msubprocess_Popen\u001b[0m\u001b[0;34m(\u001b[0m\u001b[0mcommand\u001b[0m\u001b[0;34m,\u001b[0m \u001b[0;34m**\u001b[0m\u001b[0mparams\u001b[0m\u001b[0;34m)\u001b[0m\u001b[0;34m\u001b[0m\u001b[0;34m\u001b[0m\u001b[0m\n\u001b[0m\u001b[1;32m    252\u001b[0m     \u001b[0;31m# we need to use communicate to make sure we don't deadlock around\u001b[0m\u001b[0;34m\u001b[0m\u001b[0;34m\u001b[0m\u001b[0;34m\u001b[0m\u001b[0m\n\u001b[1;32m    253\u001b[0m     \u001b[0;31m# the stdout/stderr pipe.\u001b[0m\u001b[0;34m\u001b[0m\u001b[0;34m\u001b[0m\u001b[0;34m\u001b[0m\u001b[0m\n",
      "\u001b[0;32m~/anaconda3/envs/css/lib/python3.9/site-packages/theano/utils.py\u001b[0m in \u001b[0;36msubprocess_Popen\u001b[0;34m(command, **params)\u001b[0m\n\u001b[1;32m    215\u001b[0m \u001b[0;34m\u001b[0m\u001b[0m\n\u001b[1;32m    216\u001b[0m     \u001b[0;32mtry\u001b[0m\u001b[0;34m:\u001b[0m\u001b[0;34m\u001b[0m\u001b[0;34m\u001b[0m\u001b[0m\n\u001b[0;32m--> 217\u001b[0;31m         \u001b[0mproc\u001b[0m \u001b[0;34m=\u001b[0m \u001b[0msubprocess\u001b[0m\u001b[0;34m.\u001b[0m\u001b[0mPopen\u001b[0m\u001b[0;34m(\u001b[0m\u001b[0mcommand\u001b[0m\u001b[0;34m,\u001b[0m \u001b[0mstartupinfo\u001b[0m\u001b[0;34m=\u001b[0m\u001b[0mstartupinfo\u001b[0m\u001b[0;34m,\u001b[0m \u001b[0;34m**\u001b[0m\u001b[0mparams\u001b[0m\u001b[0;34m)\u001b[0m\u001b[0;34m\u001b[0m\u001b[0;34m\u001b[0m\u001b[0m\n\u001b[0m\u001b[1;32m    218\u001b[0m     \u001b[0;32mfinally\u001b[0m\u001b[0;34m:\u001b[0m\u001b[0;34m\u001b[0m\u001b[0;34m\u001b[0m\u001b[0m\n\u001b[1;32m    219\u001b[0m         \u001b[0;32mif\u001b[0m \u001b[0mstdin\u001b[0m \u001b[0;32mis\u001b[0m \u001b[0;32mnot\u001b[0m \u001b[0;32mNone\u001b[0m\u001b[0;34m:\u001b[0m\u001b[0;34m\u001b[0m\u001b[0;34m\u001b[0m\u001b[0m\n",
      "\u001b[0;32m~/anaconda3/envs/css/lib/python3.9/subprocess.py\u001b[0m in \u001b[0;36m__init__\u001b[0;34m(self, args, bufsize, executable, stdin, stdout, stderr, preexec_fn, close_fds, shell, cwd, env, universal_newlines, startupinfo, creationflags, restore_signals, start_new_session, pass_fds, user, group, extra_groups, encoding, errors, text, umask)\u001b[0m\n\u001b[1;32m    949\u001b[0m                             encoding=encoding, errors=errors)\n\u001b[1;32m    950\u001b[0m \u001b[0;34m\u001b[0m\u001b[0m\n\u001b[0;32m--> 951\u001b[0;31m             self._execute_child(args, executable, preexec_fn, close_fds,\n\u001b[0m\u001b[1;32m    952\u001b[0m                                 \u001b[0mpass_fds\u001b[0m\u001b[0;34m,\u001b[0m \u001b[0mcwd\u001b[0m\u001b[0;34m,\u001b[0m \u001b[0menv\u001b[0m\u001b[0;34m,\u001b[0m\u001b[0;34m\u001b[0m\u001b[0;34m\u001b[0m\u001b[0m\n\u001b[1;32m    953\u001b[0m                                 \u001b[0mstartupinfo\u001b[0m\u001b[0;34m,\u001b[0m \u001b[0mcreationflags\u001b[0m\u001b[0;34m,\u001b[0m \u001b[0mshell\u001b[0m\u001b[0;34m,\u001b[0m\u001b[0;34m\u001b[0m\u001b[0;34m\u001b[0m\u001b[0m\n",
      "\u001b[0;32m~/anaconda3/envs/css/lib/python3.9/subprocess.py\u001b[0m in \u001b[0;36m_execute_child\u001b[0;34m(self, args, executable, preexec_fn, close_fds, pass_fds, cwd, env, startupinfo, creationflags, shell, p2cread, p2cwrite, c2pread, c2pwrite, errread, errwrite, restore_signals, gid, gids, uid, umask, start_new_session)\u001b[0m\n\u001b[1;32m   1754\u001b[0m                     \u001b[0mfds_to_keep\u001b[0m \u001b[0;34m=\u001b[0m \u001b[0mset\u001b[0m\u001b[0;34m(\u001b[0m\u001b[0mpass_fds\u001b[0m\u001b[0;34m)\u001b[0m\u001b[0;34m\u001b[0m\u001b[0;34m\u001b[0m\u001b[0m\n\u001b[1;32m   1755\u001b[0m                     \u001b[0mfds_to_keep\u001b[0m\u001b[0;34m.\u001b[0m\u001b[0madd\u001b[0m\u001b[0;34m(\u001b[0m\u001b[0merrpipe_write\u001b[0m\u001b[0;34m)\u001b[0m\u001b[0;34m\u001b[0m\u001b[0;34m\u001b[0m\u001b[0m\n\u001b[0;32m-> 1756\u001b[0;31m                     self.pid = _posixsubprocess.fork_exec(\n\u001b[0m\u001b[1;32m   1757\u001b[0m                             \u001b[0margs\u001b[0m\u001b[0;34m,\u001b[0m \u001b[0mexecutable_list\u001b[0m\u001b[0;34m,\u001b[0m\u001b[0;34m\u001b[0m\u001b[0;34m\u001b[0m\u001b[0m\n\u001b[1;32m   1758\u001b[0m                             \u001b[0mclose_fds\u001b[0m\u001b[0;34m,\u001b[0m \u001b[0mtuple\u001b[0m\u001b[0;34m(\u001b[0m\u001b[0msorted\u001b[0m\u001b[0;34m(\u001b[0m\u001b[0mmap\u001b[0m\u001b[0;34m(\u001b[0m\u001b[0mint\u001b[0m\u001b[0;34m,\u001b[0m \u001b[0mfds_to_keep\u001b[0m\u001b[0;34m)\u001b[0m\u001b[0;34m)\u001b[0m\u001b[0;34m)\u001b[0m\u001b[0;34m,\u001b[0m\u001b[0;34m\u001b[0m\u001b[0;34m\u001b[0m\u001b[0m\n",
      "\u001b[0;31mKeyboardInterrupt\u001b[0m: "
     ]
    }
   ],
   "source": [
    "m_zoom = pm.Model()\n",
    "\n",
    "# Basic data\n",
    "zm_returns = returns.query(\"ticker == 'ZM'\")\n",
    "ri_m_rf = zm_returns.eval(\"returns - riskfree\").to_numpy()\n",
    "rm_m_rf = zm_returns.eval(\"market - riskfree\").to_numpy()\n",
    "\n",
    "with m_zoom:\n",
    "    # Data\n",
    "    _ri_m_rf = pm.Data(\"ri_m_rf\", ri_m_rf)\n",
    "    _rm_m_rf = pm.Data(\"rm_m_rf\", rm_m_rf)\n",
    "\n",
    "    # Prior\n",
    "    beta_i = pm.Normal(\"beta_i\", 0.0, 5.0)\n",
    "    sigma_i = pm.HalfStudentT(\"sigma_i\", 2)\n",
    "\n",
    "    # Likelihood\n",
    "    ll = pm.Normal(\"ll\", beta_i*_rm_m_rf, sigma_i, observed=_ri_m_rf)"
   ]
  },
  {
   "cell_type": "code",
   "execution_count": null,
   "metadata": {
    "slideshow": {
     "slide_type": "-"
    }
   },
   "outputs": [
    {
     "name": "stdout",
     "output_type": "stream",
     "text": [
      "[**********************60%****                   ]  303 of 507 completed"
     ]
    }
   ],
   "source": [
    "with m_zoom:\n",
    "    traces_zoom = pm.sample(3500, tune=1000)"
   ]
  },
  {
   "cell_type": "markdown",
   "metadata": {
    "slideshow": {
     "slide_type": "subslide"
    }
   },
   "source": [
    "#### Posterior"
   ]
  },
  {
   "cell_type": "code",
   "execution_count": null,
   "metadata": {
    "slideshow": {
     "slide_type": "-"
    }
   },
   "outputs": [],
   "source": [
    "with m_zoom:\n",
    "    az.plot_trace(traces_zoom)"
   ]
  },
  {
   "cell_type": "markdown",
   "metadata": {
    "slideshow": {
     "slide_type": "slide"
    }
   },
   "source": [
    "### Many stocks\n",
    "\n",
    "`pymc3` also allows us to estimate many regressions at once (there is no interdependence in this regression)"
   ]
  },
  {
   "cell_type": "code",
   "execution_count": null,
   "metadata": {},
   "outputs": [],
   "source": [
    "returns.head()"
   ]
  },
  {
   "cell_type": "code",
   "execution_count": null,
   "metadata": {
    "slideshow": {
     "slide_type": "-"
    }
   },
   "outputs": [],
   "source": [
    "m_baseline = pm.Model()\n",
    "\n",
    "# Basic data\n",
    "tickers = returns[\"ticker\"].unique()\n",
    "ntickers = tickers.shape[0]\n",
    "ticker_2_int = dict(zip(tickers, range(ntickers)))\n",
    "int_2_ticker = {v: k for k, v in ticker_2_int.items()}\n",
    "ri_m_rf = returns.eval(\"returns - riskfree\").to_numpy()\n",
    "rm_m_rf = returns.eval(\"market - riskfree\").to_numpy()\n",
    "ticker_idx = returns[\"ticker\"].map(lambda x: ticker_2_int[x]).to_numpy()\n",
    "\n",
    "with m_baseline:\n",
    "    # Data\n",
    "    _ri_m_rf = pm.Data(\"ri_m_rf\", ri_m_rf)\n",
    "    _rm_m_rf = pm.Data(\"rm_m_rf\", rm_m_rf)\n",
    "    _ticker_idx = pm.intX(pm.Data(\"ticker_idx\", ticker_idx))\n",
    "\n",
    "    # Prior\n",
    "    beta_i = pm.Normal(\"beta_i\", 0.0, 5.0, shape=ntickers)\n",
    "    sigma_i = pm.HalfStudentT(\"sigma_i\", 5.0, shape=ntickers)\n",
    "\n",
    "    # Likelihood\n",
    "    ll = pm.Normal(\"ll\", beta_i[_ticker_idx]*_rm_m_rf, sigma_i[_ticker_idx], observed=_ri_m_rf)"
   ]
  },
  {
   "cell_type": "code",
   "execution_count": null,
   "metadata": {
    "slideshow": {
     "slide_type": "-"
    }
   },
   "outputs": [],
   "source": [
    "with m_baseline:\n",
    "    traces_baseline = pm.sample(2500, tune=1000)"
   ]
  },
  {
   "cell_type": "markdown",
   "metadata": {
    "slideshow": {
     "slide_type": "subslide"
    }
   },
   "source": [
    "#### Posterior of \"amnesia\" $\\beta$s"
   ]
  },
  {
   "cell_type": "code",
   "execution_count": null,
   "metadata": {
    "slideshow": {
     "slide_type": "-"
    }
   },
   "outputs": [],
   "source": [
    "betas_nopool = pd.DataFrame(\n",
    "    {\n",
    "        \"beta_mean\": traces_baseline[\"beta_i\"].mean(axis=0),\n",
    "        \"beta_std\": traces_baseline[\"beta_i\"].std(axis=0),\n",
    "        \"sigma_mean\": traces_baseline[\"sigma_i\"].mean(axis=0),\n",
    "        \"sigma_std\": traces_baseline[\"sigma_i\"].std(axis=0)\n",
    "    }, index=tickers\n",
    ")\n",
    "\n",
    "betas_nopool.T.head()"
   ]
  },
  {
   "cell_type": "markdown",
   "metadata": {
    "slideshow": {
     "slide_type": "fragment"
    }
   },
   "source": [
    "**Plausbility?**\n",
    "\n",
    "Recall that in our single stock estimation, we found $\\beta_{\\text{Zoom}} < 0$...\n",
    "\n",
    "Do many other stocks have negative $\\beta$? How plausible is this given the rest of our estimates? "
   ]
  },
  {
   "cell_type": "code",
   "execution_count": null,
   "metadata": {
    "slideshow": {
     "slide_type": "-"
    }
   },
   "outputs": [],
   "source": [
    "betas_nopool.query(\"beta_mean < 0.0\")"
   ]
  },
  {
   "cell_type": "markdown",
   "metadata": {
    "slideshow": {
     "slide_type": "slide"
    }
   },
   "source": [
    "### A Hierarchical Approach to CAPM\n",
    "\n",
    "We now turn to building a hierarchical version of this model.\n",
    "\n",
    "The purpose of the hierarchical model is to allow groups of observations to learn from one another -- We have, at most, 60 observations for each of our stocks because we are computing the 5 year beta (similar to what Yahoo Finance reports).\n"
   ]
  },
  {
   "cell_type": "markdown",
   "metadata": {
    "slideshow": {
     "slide_type": "subslide"
    }
   },
   "source": [
    "#### Grouping observations\n",
    "\n",
    "As we've mentioned previously, model-building is an art that takes practice (and watching others do it)...\n",
    "\n",
    "Hierarchical models are no exception and choosing how to group your observations take practice (and experimentation)."
   ]
  },
  {
   "cell_type": "markdown",
   "metadata": {
    "slideshow": {
     "slide_type": "fragment"
    }
   },
   "source": [
    "**Hyperparameters and hyperpriors**\n",
    "\n",
    "A _hyperparameter_ is a parameter that's an input to a prior. For example, in our previous example we specified $\\beta_i \\sim N(0, 5)$ so 0 and 5 were hyperparameters.\n",
    "\n",
    "A _hyperprior_ is a prior on a hyperparameter\n",
    "\n",
    "(Any guess what a hyperhyperprior is? It is a prior on the hyperhyperparameters which are the parameters governing the hyperprior...)"
   ]
  },
  {
   "cell_type": "markdown",
   "metadata": {
    "slideshow": {
     "slide_type": "fragment"
    }
   },
   "source": [
    "**Hierarchical model**\n",
    "\n",
    "Hyperpriors will be a central feature of hierarchical models and they will be used to group observations. In our example, we originally wrote the following model\n",
    "\n",
    "\\begin{align*}\n",
    "   r_{i, t} - r_{f, t} &= \\beta_i (r_{m, t} - r_{f, t}) + \\sigma_i \\varepsilon_{i, t}\\\\\n",
    "   \\beta_i &\\sim N(0, 5) \\\\\n",
    "   \\sigma_i &\\sim \\text{HalfStudentT}(4)\n",
    "\\end{align*}\n",
    "\n",
    "A hierarchical version of the model might be specified as\n",
    "\n",
    "\\begin{align*}\n",
    "   r_{i, t} - r_{f, t} &= \\beta_i (r_{m, t} - r_{f, t}) + \\sigma_i \\varepsilon_{i, t}\\\\\n",
    "   \\sigma_i &\\sim \\text{HalfStudentT}(2) \\\\\n",
    "   \\beta_i &\\sim N(\\hat{\\mu}_j, \\hat{\\sigma}_j) \\\\\n",
    "   \\hat{\\mu}_j &\\sim N(0, 5) \\\\\n",
    "   \\hat{\\sigma}_j &\\sim \\text{HalfStudentT}(4)\n",
    "\\end{align*}\n",
    "\n",
    "where $j$ could indicate the GICS sector (`gics`) that $i$ is identified by."
   ]
  },
  {
   "cell_type": "markdown",
   "metadata": {
    "slideshow": {
     "slide_type": "subslide"
    }
   },
   "source": [
    "#### Writing down the model in pymc3\n",
    "\n",
    "\\begin{align*}\n",
    "   r_{i, t} - r_{f, t} &= \\beta_i (r_{m, t} - r_{f, t}) + \\sigma_i \\varepsilon_{i, t}\\\\\n",
    "   \\sigma_i &\\sim \\text{HalfStudentT}(2) \\\\\n",
    "   \\beta_i &\\sim N(\\hat{\\mu}_j, \\hat{\\sigma}_j) \\\\\n",
    "   \\hat{\\mu}_j &\\sim N(0, 5) \\\\\n",
    "   \\hat{\\sigma}_j &\\sim \\text{HalfStudentT}(2)\n",
    "\\end{align*}"
   ]
  },
  {
   "cell_type": "code",
   "execution_count": null,
   "metadata": {
    "slideshow": {
     "slide_type": "-"
    }
   },
   "outputs": [],
   "source": [
    "# Ticker/subindustry\n",
    "_tick_sect = returns.loc[:, [\"ticker\", \"gics\"]]\n",
    "tick_sect = _tick_sect.loc[~_tick_sect.duplicated(keep=\"first\"), :]\n",
    "tickers = tick_sect[\"ticker\"].to_numpy()\n",
    "ntickers = tickers.shape[0]\n",
    "sects = tick_sect[\"gics\"].unique()\n",
    "nsect = sects.shape[0]\n",
    "\n",
    "# Mappings\n",
    "ticker_2_int = dict(zip(tickers, range(ntickers)))\n",
    "int_2_ticker = {v: k for k, v in ticker_2_int.items()}  # Only reverse when unique\n",
    "sect_2_int = dict(zip(sects, range(nsect)))\n",
    "int_2_sect = {v: k for k, v in sect_2_int.items()}  # Only reverse when unique\n",
    "ticker_2_sect = dict(\n",
    "    zip(\n",
    "        tick_sect[\"ticker\"].map(ticker_2_int).to_numpy(),\n",
    "        tick_sect[\"gics\"].map(sect_2_int).to_numpy()\n",
    "    )\n",
    ")\n",
    "\n",
    "# Data\n",
    "ri_m_rf = returns.eval(\"returns - riskfree\").to_numpy()\n",
    "rm_m_rf = returns.eval(\"market - riskfree\").to_numpy()\n",
    "ticker_idx = returns[\"ticker\"].map(lambda x: ticker_2_int[x]).to_numpy()\n",
    "sect_idx = np.array([ticker_2_sect[x] for x in range(ntickers)])"
   ]
  },
  {
   "cell_type": "code",
   "execution_count": null,
   "metadata": {
    "slideshow": {
     "slide_type": "-"
    }
   },
   "outputs": [],
   "source": [
    "m_hierarchical = pm.Model()\n",
    "\n",
    "with m_hierarchical:\n",
    "    # Data\n",
    "    _ri_m_rf = pm.Data(\"ri_m_rf\", ri_m_rf)\n",
    "    _rm_m_rf = pm.Data(\"rm_m_rf\", rm_m_rf)\n",
    "    _ticker_idx = pm.intX(pm.Data(\"ticker_idx\", ticker_idx))\n",
    "    _sect_idx = pm.intX(pm.Data(\"sect_idx\", sect_idx))\n",
    "\n",
    "    # Hyperprior\n",
    "    muhat = pm.Normal(\"mu_hat\", 0, 5, shape=nsect)\n",
    "    sigmahat = pm.HalfStudentT(\"sigma_hat\", 5, shape=nsect)\n",
    "\n",
    "    # Prior\n",
    "    beta_i = pm.Normal(\n",
    "        \"beta_i\", muhat[_sect_idx], sigmahat[_sect_idx],\n",
    "        shape=ntickers\n",
    "    )\n",
    "    sigma_i = pm.HalfStudentT(\"sigma_i\", 5, shape=ntickers)\n",
    "\n",
    "    # Likelihood\n",
    "    ll = pm.Normal(\"ll\", beta_i[_ticker_idx]*_rm_m_rf, sigma_i[_ticker_idx], observed=_ri_m_rf)"
   ]
  },
  {
   "cell_type": "code",
   "execution_count": null,
   "metadata": {
    "slideshow": {
     "slide_type": "-"
    }
   },
   "outputs": [],
   "source": [
    "with m_hierarchical:\n",
    "    traces_hierarchical = pm.sample(2000, tune=1500)"
   ]
  },
  {
   "cell_type": "markdown",
   "metadata": {
    "slideshow": {
     "slide_type": "subslide"
    }
   },
   "source": [
    "**Diagnosing MCMC chains**\n",
    "\n",
    "There are a few diagnostic tools available:\n",
    "\n",
    "1. Rhat: This is a measure of how different the posterior samples across different chains are.\n",
    "  - You would like rhat to be very close to 1 -- If it's much higher than 1.01 or 1.02 then you should be worried about whether you're drawing samples from your posterior\n",
    "2. ESS: The effective sample size. If your draws are highly correlated (or have other problems) then the ESS becomes smaller\n",
    "  - It is possible to draw 1,000 values from your posterior but have less than 100 effective samples.\n",
    "  - Can compute the relative ESS which is $\\text{ESS} / n$"
   ]
  },
  {
   "cell_type": "code",
   "execution_count": null,
   "metadata": {
    "slideshow": {
     "slide_type": "fragment"
    }
   },
   "outputs": [],
   "source": [
    "with m_hierarchical:\n",
    "    ess = az.stats.diagnostics.ess(traces_hierarchical, relative=True)\n",
    "    rhat = az.stats.diagnostics.rhat(traces_hierarchical)"
   ]
  },
  {
   "cell_type": "code",
   "execution_count": null,
   "metadata": {
    "scrolled": true,
    "slideshow": {
     "slide_type": "-"
    }
   },
   "outputs": [],
   "source": [
    "for _var in [\"beta_i\", \"sigma_i\", \"mu_hat\", \"sigma_hat\"]:\n",
    "    print(f\"Variable: {_var}\")\n",
    "    print(\"\\tMinimum relative ESS: \", ess[_var].min().values)\n",
    "    print(\"\\tMaximum rhat: \", rhat[_var].max().values)"
   ]
  },
  {
   "cell_type": "code",
   "execution_count": null,
   "metadata": {
    "slideshow": {
     "slide_type": "-"
    }
   },
   "outputs": [],
   "source": [
    "traces_hierarchical.report._chain_warnings"
   ]
  },
  {
   "cell_type": "markdown",
   "metadata": {
    "slideshow": {
     "slide_type": "subslide"
    }
   },
   "source": [
    "**Zoom's $\\beta$**\n",
    "\n",
    "Note that Zoom is an element of the \"Communication Services\" sector"
   ]
  },
  {
   "cell_type": "code",
   "execution_count": null,
   "metadata": {
    "slideshow": {
     "slide_type": "-"
    }
   },
   "outputs": [],
   "source": [
    "tick_sect.query(\"ticker == 'ZM'\")"
   ]
  },
  {
   "cell_type": "markdown",
   "metadata": {
    "slideshow": {
     "slide_type": "fragment"
    }
   },
   "source": [
    "Which is an identified by"
   ]
  },
  {
   "cell_type": "code",
   "execution_count": null,
   "metadata": {
    "slideshow": {
     "slide_type": "-"
    }
   },
   "outputs": [],
   "source": [
    "sect_2_int[\"Communication Services\"]"
   ]
  },
  {
   "cell_type": "code",
   "execution_count": null,
   "metadata": {
    "slideshow": {
     "slide_type": "-"
    }
   },
   "outputs": [],
   "source": [
    "with m_hierarchical:\n",
    "    az.plot_trace(traces_hierarchical, var_names=\"mu]_hat\")"
   ]
  },
  {
   "cell_type": "code",
   "execution_count": null,
   "metadata": {},
   "outputs": [],
   "source": [
    "with m_hierarchical:\n",
    "    az.plot_trace(traces_hierarchical, var_names=\"sigma_hat\")"
   ]
  },
  {
   "cell_type": "code",
   "execution_count": null,
   "metadata": {},
   "outputs": [],
   "source": [
    "betas_nopool"
   ]
  },
  {
   "cell_type": "code",
   "execution_count": null,
   "metadata": {
    "slideshow": {
     "slide_type": "-"
    }
   },
   "outputs": [],
   "source": [
    "betas_hierarchical = pd.DataFrame(\n",
    "    {\n",
    "        \"beta_mean\": traces_hierarchical[\"beta_i\"].mean(axis=0),\n",
    "        \"beta_std\": traces_hierarchical[\"beta_i\"].std(axis=0),\n",
    "        \"sigma_mean\": traces_hierarchical[\"sigma_i\"].mean(axis=0),\n",
    "        \"sigma_std\": traces_hierarchical[\"sigma_i\"].std(axis=0)\n",
    "    }, index=tickers\n",
    ")\n",
    "\n",
    "betas_hierarchical"
   ]
  },
  {
   "cell_type": "code",
   "execution_count": null,
   "metadata": {},
   "outputs": [],
   "source": [
    "tick_sect"
   ]
  },
  {
   "cell_type": "code",
   "execution_count": null,
   "metadata": {
    "slideshow": {
     "slide_type": "subslide"
    }
   },
   "outputs": [],
   "source": [
    "fig, ax = plt.subplots(figsize=(14, 10))\n",
    "\n",
    "sector = \"Communication Services\"\n",
    "foo_tickers = tick_sect.query(f\"gics == '{sector}'\").loc[:, \"ticker\"].to_numpy()\n",
    "foo = betas_nopool.loc[foo_tickers, :]\n",
    "bar = betas_hierarchical.loc[foo_tickers, :]\n",
    "nfoo = foo.shape[0]\n",
    "\n",
    "ax.scatter(np.arange(nfoo), foo[\"beta_mean\"], color=\"r\", s=15)\n",
    "ax.scatter(np.arange(nfoo), bar[\"beta_mean\"], color=\"b\", s=15)"
   ]
  },
  {
   "cell_type": "markdown",
   "metadata": {
    "slideshow": {
     "slide_type": "slide"
    }
   },
   "source": [
    "## Conclusion\n",
    "\n",
    "We conclude with this excerpt about the benefits of multilevel (hierarchical) modeling from Statistical Rethinking by Richard McElreath:\n",
    "\n",
    "> 1. Improved estimates for repeat sampling. When more than one observation arises from the same individual, location, or time, then traditional, single-level models either maximally underfit or overfit the data.\n",
    "> 2. Improved estimates for imbalance in sampling. When some individuals, locations, or times are sampled more than others, multilevel models automatically cope with differing uncertainty across these clusters. This prevents over-sampled clusters from unfairly dominating inference.\n",
    "> 3. Estimates of variation. If our research questions include variation among individuals or other groups within the data, then multilevel models are a big help, because they model variation explicitly.\n",
    "> 4. Avoid averaging, retain variation. Frequently, scholars pre-average some data to construct variables. This can be dangerous, because averaging removes variation, and there are also typically several different ways to perform the averaging. Averaging therefore manufactures false confidence and introduces arbitrary data transformations. Multilevel models allow us to preserve the uncertainty and avoid data transformations"
   ]
  }
 ],
 "metadata": {
  "celltoolbar": "Slideshow",
  "kernelspec": {
   "display_name": "css",
   "language": "python",
   "name": "css"
  },
  "language_info": {
   "codemirror_mode": {
    "name": "ipython",
    "version": 3
   },
   "file_extension": ".py",
   "mimetype": "text/x-python",
   "name": "python",
   "nbconvert_exporter": "python",
   "pygments_lexer": "ipython3",
   "version": "3.9.2"
  }
 },
 "nbformat": 4,
 "nbformat_minor": 4
}
