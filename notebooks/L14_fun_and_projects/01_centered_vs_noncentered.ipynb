{
 "cells": [
  {
   "cell_type": "markdown",
   "id": "2dc11518",
   "metadata": {},
   "source": [
    "# Bayesian Hierarichcal Models:\n",
    "\n",
    "## Centered vs Non-centered models\n",
    "\n",
    "This notebook discusses the differences between centered and non-centered models.\n",
    "\n",
    "It also highlights how a non-centered model can successfully explore certain areas of the posterior that a centered model will miss."
   ]
  },
  {
   "cell_type": "code",
   "execution_count": null,
   "id": "e122c419",
   "metadata": {},
   "outputs": [],
   "source": [
    "import arviz as az\n",
    "import matplotlib.pyplot as plt\n",
    "import numpy as np\n",
    "import pymc3 as pm"
   ]
  },
  {
   "cell_type": "markdown",
   "id": "442276d3",
   "metadata": {},
   "source": [
    "## A (centered) model\n",
    "\n",
    "Consider the following model:\n",
    "\n",
    "There are $I$ groups within our data. For each group ($i$), data is generated from:\n",
    "\n",
    "$$y_{i, n} = \\beta_i x_{i, n} + \\varepsilon_{i, n}$$\n",
    "\n",
    "where $\\varepsilon_{i, n} \\sim N(0, \\sigma)$."
   ]
  },
  {
   "cell_type": "markdown",
   "id": "ccdf8746",
   "metadata": {},
   "source": [
    "### Priors\n",
    "\n",
    "Suppose that we believe that each $\\beta_i$ is drawn from\n",
    "\n",
    "\\begin{align*}\n",
    "  \\beta_i &\\sim N(\\mu_\\beta, \\sigma_\\beta) \\\\\n",
    "\\end{align*}\n",
    "\n",
    "where we believe that\n",
    "\n",
    "\\begin{align*}\n",
    "  \\mu_\\beta &\\sim N(0, 5) \\\\\n",
    "  \\sigma_\\beta &\\sim \\text{HalfCauchy}(3)\n",
    "\\end{align*}\n",
    "\n",
    "and $\\sigma$ is drawn from\n",
    "\n",
    "\\begin{align*}\n",
    "  \\sigma &\\sim \\text{HalfCauchy}(3) \\\\\n",
    "\\end{align*}\n"
   ]
  },
  {
   "cell_type": "code",
   "execution_count": null,
   "id": "ba3142db",
   "metadata": {},
   "outputs": [],
   "source": [
    "# Parameters\n",
    "mu_beta_mean = 0.0\n",
    "mu_beta_std = 5.0\n",
    "sigma_beta_param = 3.0\n",
    "sigma_param = 3.0\n",
    "I = 35\n",
    "nobs = 7\n",
    "\n",
    "# Data\n",
    "np.random.seed(1234)\n",
    "dgp_mu_beta = 1.0\n",
    "dgp_sigma_beta = 0.25\n",
    "dgp_sigma = 0.75\n",
    "dgp_betas = dgp_mu_beta + dgp_sigma_beta*np.random.randn(I)\n",
    "\n",
    "idxs = np.tile(np.arange(I), nobs)\n",
    "x = np.random.randn(I*nobs)\n",
    "y = dgp_betas[idxs]*x + dgp_sigma*np.random.randn(I*nobs)\n",
    "\n",
    "centered_m = pm.Model()"
   ]
  },
  {
   "cell_type": "code",
   "execution_count": null,
   "id": "083e1b65",
   "metadata": {},
   "outputs": [],
   "source": [
    "with centered_m:\n",
    "    # Data\n",
    "    data_x = pm.Data(\"x\", x)\n",
    "    data_idx = pm.Data(\"idx\", idxs)\n",
    "    data_y = pm.Data(\"y\", y)\n",
    "\n",
    "    # Hyperpriors\n",
    "    mu_beta = pm.Normal(\"mu_beta\", mu_beta_mean, mu_beta_std)\n",
    "    sigma_beta = pm.HalfCauchy(\"sigma_beta\", sigma_beta_param)\n",
    "\n",
    "    # Priors\n",
    "    beta = pm.Normal(\"betas\", mu_beta, sigma_beta, shape=(I,))\n",
    "    sigma = pm.HalfCauchy(\"sigma\", sigma_param)\n",
    "\n",
    "    # Likelihood\n",
    "    obs = pm.Normal(\"likelihood\", beta[data_idx]*data_x, sigma, observed=data_y)"
   ]
  },
  {
   "cell_type": "markdown",
   "id": "cc89ba93",
   "metadata": {},
   "source": [
    "### Sample from posterior\n",
    "\n"
   ]
  },
  {
   "cell_type": "code",
   "execution_count": null,
   "id": "d5671687",
   "metadata": {},
   "outputs": [],
   "source": [
    "with centered_m:\n",
    "    centered_traces = pm.sample(\n",
    "        1_500, tune=1_000, target_accept=0.8,\n",
    "        return_inferencedata=False\n",
    "    )"
   ]
  },
  {
   "cell_type": "code",
   "execution_count": null,
   "id": "c44f18bb",
   "metadata": {},
   "outputs": [],
   "source": [
    "with centered_m:\n",
    "    az.plot_trace(centered_traces)\n",
    "\n",
    "    plt.tight_layout()"
   ]
  },
  {
   "cell_type": "code",
   "execution_count": null,
   "id": "53d17658",
   "metadata": {},
   "outputs": [],
   "source": [
    "fig, ax = plt.subplots(4, 2, figsize=(14, 16))\n",
    "\n",
    "centered_sigma_betas = centered_traces.get_values(\"sigma_beta\", combine=False)\n",
    "for i in range(4):\n",
    "    ax[i, 0].hist(centered_sigma_betas[i], bins=50, density=True)\n",
    "    ax[i, 0].set_xlim(0.0, 0.75)\n",
    "\n",
    "    ax[i, 1].plot(centered_sigma_betas[i])\n",
    "    ax[i, 1].set_ylim(0.0, 0.75)"
   ]
  },
  {
   "cell_type": "markdown",
   "id": "140e1567",
   "metadata": {},
   "source": [
    "## Non-centered model"
   ]
  },
  {
   "cell_type": "code",
   "execution_count": null,
   "id": "8c09e0dc",
   "metadata": {},
   "outputs": [],
   "source": [
    "noncentered_m = pm.Model()\n",
    "\n",
    "with noncentered_m:\n",
    "    # Data\n",
    "    data_x = pm.Data(\"x\", x)\n",
    "    data_idx = pm.Data(\"idx\", idxs)\n",
    "    data_y = pm.Data(\"y\", y)\n",
    "\n",
    "    # Hyperpriors\n",
    "    mu_beta = pm.Normal(\"mu_beta\", mu_beta_mean, mu_beta_std)\n",
    "    sigma_beta = pm.HalfStudentT(\"sigma_beta\", sigma_beta_param)\n",
    "\n",
    "    # Priors\n",
    "    b_offset = pm.Normal(\"b_offset\", 0.0, 1.0, shape=(I,))\n",
    "    beta = pm.Deterministic(\"betas\", mu_beta + sigma_beta*b_offset)\n",
    "    sigma = pm.HalfStudentT(\"sigma\", sigma_param)\n",
    "\n",
    "    # Likelihood\n",
    "    obs = pm.Normal(\"likelihood\", beta[data_idx]*data_x, sigma, observed=data_y)"
   ]
  },
  {
   "cell_type": "markdown",
   "id": "ddd031b3",
   "metadata": {},
   "source": [
    "Modified excerpt from https://twiecki.io/blog/2017/02/08/bayesian-hierchical-non-centered/\n",
    "\n",
    "> Pay attention to the definitions of `beta` and `b_offset`... What's going on here? It's pretty neat actually. Instead of saying that our individual slopes `beta` are normally distributed around a group mean (i.e. modeling their absolute values directly), we can say that they are offset from a group mean by a certain value (`b_offset`; i.e. modeling their values relative to that mean). Now we still have to consider how far from that mean we actually allow things to deviate (i.e. how much shrinkage we apply). This is where `sigma_b` makes a comeback. We can simply multiply the offset by this scaling factor to get the same effect as before, just under a different parameterization."
   ]
  },
  {
   "cell_type": "markdown",
   "id": "d4e8442f",
   "metadata": {},
   "source": [
    "### Sample from posterior\n"
   ]
  },
  {
   "cell_type": "code",
   "execution_count": null,
   "id": "e172d558",
   "metadata": {},
   "outputs": [],
   "source": [
    "with noncentered_m:\n",
    "    noncentered_traces = pm.sample(\n",
    "        1_500, tune=1_000, target_accept=0.8,\n",
    "        return_inferencedata=False\n",
    "    )"
   ]
  },
  {
   "cell_type": "code",
   "execution_count": null,
   "id": "e4fb0283",
   "metadata": {},
   "outputs": [],
   "source": [
    "with noncentered_m:\n",
    "\n",
    "    az.plot_trace(noncentered_traces)\n",
    "    plt.tight_layout()"
   ]
  },
  {
   "cell_type": "code",
   "execution_count": null,
   "id": "57fdca05",
   "metadata": {},
   "outputs": [],
   "source": [
    "fig, ax = plt.subplots(4, 2, figsize=(14, 16))\n",
    "\n",
    "noncentered_sigma_betas = noncentered_traces.get_values(\"sigma_beta\", combine=False)\n",
    "for i in range(4):\n",
    "    ax[i, 0].hist(noncentered_sigma_betas[i], bins=50, density=True)\n",
    "    ax[i, 0].set_xlim(0.0, 0.75)\n",
    "\n",
    "    ax[i, 1].plot(noncentered_sigma_betas[i])\n",
    "    ax[i, 1].set_ylim(0.0, 0.75)"
   ]
  },
  {
   "cell_type": "markdown",
   "id": "d1b996a0",
   "metadata": {},
   "source": [
    "## Are these actually any different?"
   ]
  },
  {
   "cell_type": "markdown",
   "id": "ceea0ca4",
   "metadata": {},
   "source": [
    "**Differences in $\\sigma_\\beta$**"
   ]
  },
  {
   "cell_type": "code",
   "execution_count": null,
   "id": "1c96c40b",
   "metadata": {},
   "outputs": [],
   "source": [
    "fig, ax = plt.subplots(2, 1, figsize=(8, 12))\n",
    "\n",
    "# Data from centered\n",
    "c_sigma_beta = centered_traces[\"sigma_beta\"][:]\n",
    "\n",
    "# Data from non-centered\n",
    "nc_sigma_beta = noncentered_traces[\"sigma_beta\"][:]\n",
    "\n",
    "ax[0].hist(c_sigma_beta, bins=50, density=True)\n",
    "ax[0].set_xlim(0, 0.9)\n",
    "\n",
    "ax[1].hist(nc_sigma_beta, bins=50, density=True)\n",
    "ax[1].set_xlim(0, 0.9)"
   ]
  },
  {
   "cell_type": "markdown",
   "id": "4336b2c4",
   "metadata": {},
   "source": [
    "What fraction of draws of $\\sigma_\\beta$ are less than 0.1 in each model?"
   ]
  },
  {
   "cell_type": "code",
   "execution_count": null,
   "id": "908698b1",
   "metadata": {},
   "outputs": [],
   "source": [
    "np.mean(c_sigma_beta < 0.10)"
   ]
  },
  {
   "cell_type": "code",
   "execution_count": null,
   "id": "08363402",
   "metadata": {},
   "outputs": [],
   "source": [
    "np.mean(nc_sigma_beta < 0.10)"
   ]
  },
  {
   "cell_type": "markdown",
   "id": "3be7ff94",
   "metadata": {},
   "source": [
    "**Differences in $\\beta$**"
   ]
  },
  {
   "cell_type": "code",
   "execution_count": null,
   "id": "a4e86768",
   "metadata": {},
   "outputs": [],
   "source": [
    "np.argmin(dgp_betas)"
   ]
  },
  {
   "cell_type": "code",
   "execution_count": null,
   "id": "04d94919",
   "metadata": {},
   "outputs": [],
   "source": [
    "np.argmax(dgp_betas)"
   ]
  },
  {
   "cell_type": "code",
   "execution_count": null,
   "id": "fff0d7b1",
   "metadata": {},
   "outputs": [],
   "source": [
    "i = 2\n",
    "\n",
    "# Data from centered\n",
    "c_beta_i = centered_traces[\"betas\"][:, i]\n",
    "\n",
    "# Data from non-centered\n",
    "nc_beta_i = noncentered_traces[\"betas\"][:, i]\n",
    "\n",
    "fig, ax = plt.subplots(1, 2, figsize=(12, 8))\n",
    "\n",
    "ax[0].hist(c_beta_i, bins=50, density=True)\n",
    "ax[0].vlines(dgp_betas[i], 0.0, 5.0, color=\"k\", linewidth=2.0)\n",
    "ax[0].set_xlim(0.0, 2.5)\n",
    "ax[0].set_ylim(0.0, 2.5)\n",
    "\n",
    "ax[1].hist(nc_beta_i, bins=50, density=True)\n",
    "ax[1].vlines(dgp_betas[i], 0.0, 5.0, color=\"k\", linewidth=2.0)\n",
    "ax[1].set_xlim(0.0, 2.5)\n",
    "ax[1].set_ylim(0.0, 2.5)"
   ]
  },
  {
   "cell_type": "markdown",
   "id": "90495add",
   "metadata": {},
   "source": [
    "## Pair plot comparison"
   ]
  },
  {
   "cell_type": "code",
   "execution_count": null,
   "id": "61d6a585",
   "metadata": {},
   "outputs": [],
   "source": [
    "fig, ax = plt.subplots(1, 2, figsize=(10, 12))\n",
    "\n",
    "i = 1\n",
    "\n",
    "# Data from centered\n",
    "c_beta_0 = centered_traces[\"betas\"][:, i]\n",
    "c_sigma_beta = centered_traces[\"sigma_beta\"][:]\n",
    "\n",
    "# Data from non-centered\n",
    "nc_beta_0 = noncentered_traces[\"betas\"][:, i]\n",
    "nc_sigma_beta = noncentered_traces[\"sigma_beta\"][:]\n",
    "\n",
    "ax[0].scatter(c_beta_0, c_sigma_beta)\n",
    "ax[0].set_ylim(0.0, 0.75)\n",
    "\n",
    "ax[1].scatter(nc_beta_0, nc_sigma_beta)\n",
    "ax[1].set_ylim(0.0, 0.75)"
   ]
  }
 ],
 "metadata": {
  "kernelspec": {
   "display_name": "Python 3 (ipykernel)",
   "language": "python",
   "name": "python3"
  },
  "language_info": {
   "codemirror_mode": {
    "name": "ipython",
    "version": 3
   },
   "file_extension": ".py",
   "mimetype": "text/x-python",
   "name": "python",
   "nbconvert_exporter": "python",
   "pygments_lexer": "ipython3",
   "version": "3.8.12"
  }
 },
 "nbformat": 4,
 "nbformat_minor": 5
}
